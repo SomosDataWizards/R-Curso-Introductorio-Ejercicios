{
  "nbformat": 4,
  "nbformat_minor": 0,
  "metadata": {
    "colab": {
      "provenance": [],
      "toc_visible": true
    },
    "kernelspec": {
      "name": "ir",
      "display_name": "R"
    }
  },
  "cells": [
    {
      "cell_type": "markdown",
      "source": [
        "# **Introducción a R para Análisis de Datos**\n",
        "## Capítulo 2: Data Frames - Soluciones a Ejercicios\n",
        "---\n",
        "Acerca de este notebook\n",
        "* **Autor:** Juan Martin Bellido\n",
        "* **Descripción:** *este notebook incluye las soluciones a los ejercicios del capítulo 2*\n",
        "* **¿Feedback? ¿comentarios?** Por favor compártelo conmigo escribiéndome por [LinkedIn](https://www.linkedin.com/in/jmartinbellido/)\n"
      ],
      "metadata": {
        "id": "44TEfY4OJRlK"
      }
    },
    {
      "cell_type": "markdown",
      "source": [
        "# Capítulo 2: Ejercicios\n",
        "---\n"
      ],
      "metadata": {
        "id": "Ur2YNDDIJT9w"
      }
    },
    {
      "cell_type": "code",
      "source": [
        "# instalamos librería \"data.table\"\n",
        "install.packages(\"data.table\")"
      ],
      "metadata": {
        "colab": {
          "base_uri": "https://localhost:8080/"
        },
        "id": "0XpQ2xB8P_CK",
        "outputId": "b6a282c1-1402-40e2-d97a-3f222a57c0e5"
      },
      "execution_count": null,
      "outputs": [
        {
          "output_type": "stream",
          "name": "stderr",
          "text": [
            "Installing package into ‘/usr/local/lib/R/site-library’\n",
            "(as ‘lib’ is unspecified)\n",
            "\n"
          ]
        }
      ]
    },
    {
      "cell_type": "markdown",
      "source": [
        "### Ejercicio #1\n",
        "\n",
        "##### 1A. Importar dataframe. Seleccionar columnas \"name\", \"homeworld\", \"species\" para las primeras 10 filas del DataFrame.\n",
        "\n",
        "##### 1B. Seleccionar personajes que a) no sean *species* hombre y b) sean *homeworld* Naboo, Endor o Kashyyyk.\n",
        "\n",
        "> *Dataset https://data-wizards.s3.amazonaws.com/datasets/dataset_star_wars.csv*"
      ],
      "metadata": {
        "id": "nyx_p0I9Br9Q"
      }
    },
    {
      "cell_type": "code",
      "source": [
        "# importamos librería\n",
        "require(data.table)"
      ],
      "metadata": {
        "colab": {
          "base_uri": "https://localhost:8080/"
        },
        "id": "rH261W9SAxo_",
        "outputId": "8159a6d1-6837-40b2-d156-263c4a6000a3"
      },
      "execution_count": null,
      "outputs": [
        {
          "output_type": "stream",
          "name": "stderr",
          "text": [
            "Loading required package: data.table\n",
            "\n"
          ]
        }
      ]
    },
    {
      "cell_type": "code",
      "source": [
        "# importamos df\n",
        "df_starwars = data.table::fread('https://data-wizards.s3.amazonaws.com/datasets/dataset_star_wars.csv')\n",
        "str(df_starwars)"
      ],
      "metadata": {
        "colab": {
          "base_uri": "https://localhost:8080/"
        },
        "id": "-HuJgp5oB729",
        "outputId": "6e347bbc-c3d9-47e2-d1b6-023fcb5fa847"
      },
      "execution_count": null,
      "outputs": [
        {
          "output_type": "stream",
          "name": "stdout",
          "text": [
            "Classes ‘data.table’ and 'data.frame':\t87 obs. of  10 variables:\n",
            " $ name      : chr  \"Mon Mothma\" \"Yoda\" \"Tion Medon\" \"Ratts Tyerell\" ...\n",
            " $ height    : int  150 66 206 79 172 96 165 228 188 188 ...\n",
            " $ mass      : num  NA 17 80 15 77 32 75 112 79 84 ...\n",
            " $ hair_color: chr  \"auburn\" \"white\" \"none\" \"none\" ...\n",
            " $ skin_color: chr  \"fair\" \"green\" \"grey\" \"grey & blue\" ...\n",
            " $ eye_color : chr  \"blue\" \"brown\" \"black\" \"unknown\" ...\n",
            " $ birth_year: num  48 896 NA NA 19 33 47 200 NA 72 ...\n",
            " $ gender    : chr  \"female\" \"male\" \"male\" \"male\" ...\n",
            " $ homeworld : chr  \"Chandrila\" \"\" \"Utapau\" \"Aleen Minor\" ...\n",
            " $ species   : chr  \"Human\" \"Yoda's species\" \"Pau'an\" \"Aleena\" ...\n",
            " - attr(*, \".internal.selfref\")=<externalptr> \n"
          ]
        }
      ]
    },
    {
      "cell_type": "code",
      "source": [
        "# 1.A\n",
        "df_starwars[1:10,c('name','homeworld','species')]"
      ],
      "metadata": {
        "colab": {
          "base_uri": "https://localhost:8080/",
          "height": 412
        },
        "id": "HsrFHLClAxqi",
        "outputId": "2527b7ba-1ba2-48c2-a9f4-570dab29735c"
      },
      "execution_count": null,
      "outputs": [
        {
          "output_type": "display_data",
          "data": {
            "text/html": [
              "<table class=\"dataframe\">\n",
              "<caption>A data.table: 10 × 3</caption>\n",
              "<thead>\n",
              "\t<tr><th scope=col>name</th><th scope=col>homeworld</th><th scope=col>species</th></tr>\n",
              "\t<tr><th scope=col>&lt;chr&gt;</th><th scope=col>&lt;chr&gt;</th><th scope=col>&lt;chr&gt;</th></tr>\n",
              "</thead>\n",
              "<tbody>\n",
              "\t<tr><td>Mon Mothma        </td><td>Chandrila  </td><td>Human         </td></tr>\n",
              "\t<tr><td>Yoda              </td><td>           </td><td>Yoda's species</td></tr>\n",
              "\t<tr><td>Tion Medon        </td><td>Utapau     </td><td>Pau'an        </td></tr>\n",
              "\t<tr><td>Ratts Tyerell     </td><td>Aleen Minor</td><td>Aleena        </td></tr>\n",
              "\t<tr><td>Luke Skywalker    </td><td>Tatooine   </td><td>Human         </td></tr>\n",
              "\t<tr><td>R2-D2             </td><td>Naboo      </td><td>Droid         </td></tr>\n",
              "\t<tr><td>Beru Whitesun lars</td><td>Tatooine   </td><td>Human         </td></tr>\n",
              "\t<tr><td>Chewbacca         </td><td>Kashyyyk   </td><td>Wookiee       </td></tr>\n",
              "\t<tr><td>Raymus Antilles   </td><td>Alderaan   </td><td>Human         </td></tr>\n",
              "\t<tr><td>Mace Windu        </td><td>Haruun Kal </td><td>Human         </td></tr>\n",
              "</tbody>\n",
              "</table>\n"
            ],
            "text/markdown": "\nA data.table: 10 × 3\n\n| name &lt;chr&gt; | homeworld &lt;chr&gt; | species &lt;chr&gt; |\n|---|---|---|\n| Mon Mothma         | Chandrila   | Human          |\n| Yoda               | <!----> | Yoda's species |\n| Tion Medon         | Utapau      | Pau'an         |\n| Ratts Tyerell      | Aleen Minor | Aleena         |\n| Luke Skywalker     | Tatooine    | Human          |\n| R2-D2              | Naboo       | Droid          |\n| Beru Whitesun lars | Tatooine    | Human          |\n| Chewbacca          | Kashyyyk    | Wookiee        |\n| Raymus Antilles    | Alderaan    | Human          |\n| Mace Windu         | Haruun Kal  | Human          |\n\n",
            "text/latex": "A data.table: 10 × 3\n\\begin{tabular}{lll}\n name & homeworld & species\\\\\n <chr> & <chr> & <chr>\\\\\n\\hline\n\t Mon Mothma         & Chandrila   & Human         \\\\\n\t Yoda               &             & Yoda's species\\\\\n\t Tion Medon         & Utapau      & Pau'an        \\\\\n\t Ratts Tyerell      & Aleen Minor & Aleena        \\\\\n\t Luke Skywalker     & Tatooine    & Human         \\\\\n\t R2-D2              & Naboo       & Droid         \\\\\n\t Beru Whitesun lars & Tatooine    & Human         \\\\\n\t Chewbacca          & Kashyyyk    & Wookiee       \\\\\n\t Raymus Antilles    & Alderaan    & Human         \\\\\n\t Mace Windu         & Haruun Kal  & Human         \\\\\n\\end{tabular}\n",
            "text/plain": [
              "   name               homeworld   species       \n",
              "1  Mon Mothma         Chandrila   Human         \n",
              "2  Yoda                           Yoda's species\n",
              "3  Tion Medon         Utapau      Pau'an        \n",
              "4  Ratts Tyerell      Aleen Minor Aleena        \n",
              "5  Luke Skywalker     Tatooine    Human         \n",
              "6  R2-D2              Naboo       Droid         \n",
              "7  Beru Whitesun lars Tatooine    Human         \n",
              "8  Chewbacca          Kashyyyk    Wookiee       \n",
              "9  Raymus Antilles    Alderaan    Human         \n",
              "10 Mace Windu         Haruun Kal  Human         "
            ]
          },
          "metadata": {}
        }
      ]
    },
    {
      "cell_type": "code",
      "source": [
        "# 1.B\n",
        "cond_1 = df_starwars$species != 'Human'\n",
        "cond_2 = df_starwars$homeworld %in% c('Naboo','Endor','Kashyyyk')\n",
        "\n",
        "df_starwars[cond_1 & cond_2,c('name','species','homeworld')]"
      ],
      "metadata": {
        "colab": {
          "base_uri": "https://localhost:8080/",
          "height": 380
        },
        "id": "I8hF_0gREKH3",
        "outputId": "bb94b2a7-4760-4918-d754-085af5f167f3"
      },
      "execution_count": null,
      "outputs": [
        {
          "output_type": "display_data",
          "data": {
            "text/html": [
              "<table class=\"dataframe\">\n",
              "<caption>A data.table: 9 × 3</caption>\n",
              "<thead>\n",
              "\t<tr><th scope=col>name</th><th scope=col>species</th><th scope=col>homeworld</th></tr>\n",
              "\t<tr><th scope=col>&lt;chr&gt;</th><th scope=col>&lt;chr&gt;</th><th scope=col>&lt;chr&gt;</th></tr>\n",
              "</thead>\n",
              "<tbody>\n",
              "\t<tr><td>R2-D2                </td><td>Droid  </td><td>Naboo   </td></tr>\n",
              "\t<tr><td>Chewbacca            </td><td>Wookiee</td><td>Kashyyyk</td></tr>\n",
              "\t<tr><td>Rugor Nass           </td><td>Gungan </td><td>Naboo   </td></tr>\n",
              "\t<tr><td>Tarfful              </td><td>Wookiee</td><td>Kashyyyk</td></tr>\n",
              "\t<tr><td>Quarsh Panaka        </td><td>       </td><td>Naboo   </td></tr>\n",
              "\t<tr><td>Roos Tarpals         </td><td>Gungan </td><td>Naboo   </td></tr>\n",
              "\t<tr><td>Wicket Systri Warrick</td><td>Ewok   </td><td>Endor   </td></tr>\n",
              "\t<tr><td>Ric Olié             </td><td>       </td><td>Naboo   </td></tr>\n",
              "\t<tr><td>Jar Jar Binks        </td><td>Gungan </td><td>Naboo   </td></tr>\n",
              "</tbody>\n",
              "</table>\n"
            ],
            "text/markdown": "\nA data.table: 9 × 3\n\n| name &lt;chr&gt; | species &lt;chr&gt; | homeworld &lt;chr&gt; |\n|---|---|---|\n| R2-D2                 | Droid   | Naboo    |\n| Chewbacca             | Wookiee | Kashyyyk |\n| Rugor Nass            | Gungan  | Naboo    |\n| Tarfful               | Wookiee | Kashyyyk |\n| Quarsh Panaka         | <!----> | Naboo    |\n| Roos Tarpals          | Gungan  | Naboo    |\n| Wicket Systri Warrick | Ewok    | Endor    |\n| Ric Olié              | <!----> | Naboo    |\n| Jar Jar Binks         | Gungan  | Naboo    |\n\n",
            "text/latex": "A data.table: 9 × 3\n\\begin{tabular}{lll}\n name & species & homeworld\\\\\n <chr> & <chr> & <chr>\\\\\n\\hline\n\t R2-D2                 & Droid   & Naboo   \\\\\n\t Chewbacca             & Wookiee & Kashyyyk\\\\\n\t Rugor Nass            & Gungan  & Naboo   \\\\\n\t Tarfful               & Wookiee & Kashyyyk\\\\\n\t Quarsh Panaka         &         & Naboo   \\\\\n\t Roos Tarpals          & Gungan  & Naboo   \\\\\n\t Wicket Systri Warrick & Ewok    & Endor   \\\\\n\t Ric Olié              &         & Naboo   \\\\\n\t Jar Jar Binks         & Gungan  & Naboo   \\\\\n\\end{tabular}\n",
            "text/plain": [
              "  name                  species homeworld\n",
              "1 R2-D2                 Droid   Naboo    \n",
              "2 Chewbacca             Wookiee Kashyyyk \n",
              "3 Rugor Nass            Gungan  Naboo    \n",
              "4 Tarfful               Wookiee Kashyyyk \n",
              "5 Quarsh Panaka                 Naboo    \n",
              "6 Roos Tarpals          Gungan  Naboo    \n",
              "7 Wicket Systri Warrick Ewok    Endor    \n",
              "8 Ric Olié                      Naboo    \n",
              "9 Jar Jar Binks         Gungan  Naboo    "
            ]
          },
          "metadata": {}
        }
      ]
    },
    {
      "cell_type": "markdown",
      "source": [
        "### Ejercicio #2\n",
        "\n",
        "##### EX 2A. Importar dataframe. Seleccionar columnas *country*, *director_name*, *imdb_score* para las primeras 10 filas del dataframe\n",
        "##### EX 2B. Seleccionar películas:  \n",
        "(i) *producidas fuera de USA o con IMDB score mayor a 8.5*, y  \n",
        "(ii) *dirigidas por alguno de lo siguientes directores: James Cameron, Peter Jackson, Tim Burton.*\n",
        "\n",
        "> Dataset https://data-wizards.s3.amazonaws.com/datasets/movies.csv"
      ],
      "metadata": {
        "id": "Eqq3PVCpBu6V"
      }
    },
    {
      "cell_type": "code",
      "source": [
        "# importamos librería\n",
        "require(data.table)"
      ],
      "metadata": {
        "id": "Yym7TR3zAxtK"
      },
      "execution_count": null,
      "outputs": []
    },
    {
      "cell_type": "code",
      "source": [
        "# importamos df\n",
        "df_movies = data.table::fread('https://data-wizards.s3.amazonaws.com/datasets/movies.csv')\n",
        "str(df_movies)"
      ],
      "metadata": {
        "colab": {
          "base_uri": "https://localhost:8080/"
        },
        "id": "SgLW1VFSFEtT",
        "outputId": "b906962d-be99-4a53-e4ea-aa0b352f3651"
      },
      "execution_count": null,
      "outputs": [
        {
          "output_type": "stream",
          "name": "stdout",
          "text": [
            "Classes ‘data.table’ and 'data.frame':\t4916 obs. of  28 variables:\n",
            " $ color                    : chr  \"Color\" \"Color\" \"Color\" \"Color\" ...\n",
            " $ director_name            : chr  \"James Cameron\" \"Gore Verbinski\" \"Sam Mendes\" \"Christopher Nolan\" ...\n",
            " $ num_critic_for_reviews   : int  723 302 602 813 NA 462 392 324 635 375 ...\n",
            " $ duration                 : int  178 169 148 164 NA 132 156 100 141 153 ...\n",
            " $ director_facebook_likes  : int  0 563 0 22000 131 475 0 15 0 282 ...\n",
            " $ actor_3_facebook_likes   : int  855 1000 161 23000 NA 530 4000 284 19000 10000 ...\n",
            " $ actor_2_name             : chr  \"Joel David Moore\" \"Orlando Bloom\" \"Rory Kinnear\" \"Christian Bale\" ...\n",
            " $ actor_1_facebook_likes   : int  1000 40000 11000 27000 131 640 24000 799 26000 25000 ...\n",
            " $ gross                    : num  7.61e+08 3.09e+08 2.00e+08 4.48e+08 NA ...\n",
            " $ genres                   : chr  \"Action|Adventure|Fantasy|Sci-Fi\" \"Action|Adventure|Fantasy\" \"Action|Adventure|Thriller\" \"Action|Thriller\" ...\n",
            " $ actor_1_name             : chr  \"CCH Pounder\" \"Johnny Depp\" \"Christoph Waltz\" \"Tom Hardy\" ...\n",
            " $ movie_title              : chr  \"Avatar\" \"Pirates of the Caribbean: At World's End\" \"Spectre\" \"The Dark Knight Rises\" ...\n",
            " $ num_voted_users          : int  886204 471220 275868 1144337 8 212204 383056 294810 462669 321795 ...\n",
            " $ cast_total_facebook_likes: int  4834 48350 11700 106759 143 1873 46055 2036 92000 58753 ...\n",
            " $ actor_3_name             : chr  \"Wes Studi\" \"Jack Davenport\" \"Stephanie Sigman\" \"Joseph Gordon-Levitt\" ...\n",
            " $ facenumber_in_poster     : int  0 0 1 0 0 1 0 1 4 3 ...\n",
            " $ plot_keywords            : chr  \"avatar|future|marine|native|paraplegic\" \"goddess|marriage ceremony|marriage proposal|pirate|singapore\" \"bomb|espionage|sequel|spy|terrorist\" \"deception|imprisonment|lawlessness|police officer|terrorist plot\" ...\n",
            " $ movie_imdb_link          : chr  \"http://www.imdb.com/title/tt0499549/?ref_=fn_tt_tt_1\" \"http://www.imdb.com/title/tt0449088/?ref_=fn_tt_tt_1\" \"http://www.imdb.com/title/tt2379713/?ref_=fn_tt_tt_1\" \"http://www.imdb.com/title/tt1345836/?ref_=fn_tt_tt_1\" ...\n",
            " $ num_user_for_reviews     : int  3054 1238 994 2701 NA 738 1902 387 1117 973 ...\n",
            " $ language                 : chr  \"English\" \"English\" \"English\" \"English\" ...\n",
            " $ country                  : chr  \"USA\" \"USA\" \"UK\" \"USA\" ...\n",
            " $ content_rating           : chr  \"PG-13\" \"PG-13\" \"PG-13\" \"PG-13\" ...\n",
            " $ budget                   : num  2.37e+08 3.00e+08 2.45e+08 2.50e+08 NA ...\n",
            " $ title_year               : int  2009 2007 2015 2012 NA 2012 2007 2010 2015 2009 ...\n",
            " $ actor_2_facebook_likes   : int  936 5000 393 23000 12 632 11000 553 21000 11000 ...\n",
            " $ imdb_score               : num  7.9 7.1 6.8 8.5 7.1 6.6 6.2 7.8 7.5 7.5 ...\n",
            " $ aspect_ratio             : num  1.78 2.35 2.35 2.35 NA 2.35 2.35 1.85 2.35 2.35 ...\n",
            " $ movie_facebook_likes     : int  33000 0 85000 164000 0 24000 0 29000 118000 10000 ...\n",
            " - attr(*, \".internal.selfref\")=<externalptr> \n"
          ]
        }
      ]
    },
    {
      "cell_type": "code",
      "source": [
        "# 2.A\n",
        "df_movies[1:10,c('country','director_name','imdb_score')]"
      ],
      "metadata": {
        "colab": {
          "base_uri": "https://localhost:8080/",
          "height": 412
        },
        "id": "CWPHlo93FE6I",
        "outputId": "59d6d987-24ab-4910-c170-05552c8c1eae"
      },
      "execution_count": null,
      "outputs": [
        {
          "output_type": "display_data",
          "data": {
            "text/html": [
              "<table class=\"dataframe\">\n",
              "<caption>A data.table: 10 × 3</caption>\n",
              "<thead>\n",
              "\t<tr><th scope=col>country</th><th scope=col>director_name</th><th scope=col>imdb_score</th></tr>\n",
              "\t<tr><th scope=col>&lt;chr&gt;</th><th scope=col>&lt;chr&gt;</th><th scope=col>&lt;dbl&gt;</th></tr>\n",
              "</thead>\n",
              "<tbody>\n",
              "\t<tr><td>USA</td><td>James Cameron    </td><td>7.9</td></tr>\n",
              "\t<tr><td>USA</td><td>Gore Verbinski   </td><td>7.1</td></tr>\n",
              "\t<tr><td>UK </td><td>Sam Mendes       </td><td>6.8</td></tr>\n",
              "\t<tr><td>USA</td><td>Christopher Nolan</td><td>8.5</td></tr>\n",
              "\t<tr><td>   </td><td>Doug Walker      </td><td>7.1</td></tr>\n",
              "\t<tr><td>USA</td><td>Andrew Stanton   </td><td>6.6</td></tr>\n",
              "\t<tr><td>USA</td><td>Sam Raimi        </td><td>6.2</td></tr>\n",
              "\t<tr><td>USA</td><td>Nathan Greno     </td><td>7.8</td></tr>\n",
              "\t<tr><td>USA</td><td>Joss Whedon      </td><td>7.5</td></tr>\n",
              "\t<tr><td>UK </td><td>David Yates      </td><td>7.5</td></tr>\n",
              "</tbody>\n",
              "</table>\n"
            ],
            "text/markdown": "\nA data.table: 10 × 3\n\n| country &lt;chr&gt; | director_name &lt;chr&gt; | imdb_score &lt;dbl&gt; |\n|---|---|---|\n| USA | James Cameron     | 7.9 |\n| USA | Gore Verbinski    | 7.1 |\n| UK  | Sam Mendes        | 6.8 |\n| USA | Christopher Nolan | 8.5 |\n| <!----> | Doug Walker       | 7.1 |\n| USA | Andrew Stanton    | 6.6 |\n| USA | Sam Raimi         | 6.2 |\n| USA | Nathan Greno      | 7.8 |\n| USA | Joss Whedon       | 7.5 |\n| UK  | David Yates       | 7.5 |\n\n",
            "text/latex": "A data.table: 10 × 3\n\\begin{tabular}{lll}\n country & director\\_name & imdb\\_score\\\\\n <chr> & <chr> & <dbl>\\\\\n\\hline\n\t USA & James Cameron     & 7.9\\\\\n\t USA & Gore Verbinski    & 7.1\\\\\n\t UK  & Sam Mendes        & 6.8\\\\\n\t USA & Christopher Nolan & 8.5\\\\\n\t     & Doug Walker       & 7.1\\\\\n\t USA & Andrew Stanton    & 6.6\\\\\n\t USA & Sam Raimi         & 6.2\\\\\n\t USA & Nathan Greno      & 7.8\\\\\n\t USA & Joss Whedon       & 7.5\\\\\n\t UK  & David Yates       & 7.5\\\\\n\\end{tabular}\n",
            "text/plain": [
              "   country director_name     imdb_score\n",
              "1  USA     James Cameron     7.9       \n",
              "2  USA     Gore Verbinski    7.1       \n",
              "3  UK      Sam Mendes        6.8       \n",
              "4  USA     Christopher Nolan 8.5       \n",
              "5          Doug Walker       7.1       \n",
              "6  USA     Andrew Stanton    6.6       \n",
              "7  USA     Sam Raimi         6.2       \n",
              "8  USA     Nathan Greno      7.8       \n",
              "9  USA     Joss Whedon       7.5       \n",
              "10 UK      David Yates       7.5       "
            ]
          },
          "metadata": {}
        }
      ]
    },
    {
      "cell_type": "code",
      "source": [
        "# 2.B\n",
        "cond_1 = df_movies$country != 'USA'\n",
        "cond_2 = df_movies$imdb_score > 8.5\n",
        "cond_3 = df_movies$director_name %in% c('James Cameron','Peter Jackson','Tim Burton')\n",
        "\n",
        "df_movies[(cond_1 | cond_2) & cond_3,c('movie_title','country','director_name','imdb_score')]"
      ],
      "metadata": {
        "colab": {
          "base_uri": "https://localhost:8080/",
          "height": 318
        },
        "id": "57kLV4Z1FFMY",
        "outputId": "08d71d92-751e-4666-af93-754d1dd4724a"
      },
      "execution_count": null,
      "outputs": [
        {
          "output_type": "display_data",
          "data": {
            "text/html": [
              "<table class=\"dataframe\">\n",
              "<caption>A data.table: 7 × 4</caption>\n",
              "<thead>\n",
              "\t<tr><th scope=col>movie_title</th><th scope=col>country</th><th scope=col>director_name</th><th scope=col>imdb_score</th></tr>\n",
              "\t<tr><th scope=col>&lt;chr&gt;</th><th scope=col>&lt;chr&gt;</th><th scope=col>&lt;chr&gt;</th><th scope=col>&lt;dbl&gt;</th></tr>\n",
              "</thead>\n",
              "<tbody>\n",
              "\t<tr><td>The Hobbit: The Battle of the Five Armies        </td><td>New Zealand</td><td>Peter Jackson</td><td>7.5</td></tr>\n",
              "\t<tr><td>King Kong                                        </td><td>New Zealand</td><td>Peter Jackson</td><td>7.2</td></tr>\n",
              "\t<tr><td>The Lord of the Rings: The Fellowship of the Ring</td><td>New Zealand</td><td>Peter Jackson</td><td>8.8</td></tr>\n",
              "\t<tr><td>The Lord of the Rings: The Return of the King    </td><td>USA        </td><td>Peter Jackson</td><td>8.9</td></tr>\n",
              "\t<tr><td>The Lord of the Rings: The Two Towers            </td><td>USA        </td><td>Peter Jackson</td><td>8.7</td></tr>\n",
              "\t<tr><td>The Terminator                                   </td><td>UK         </td><td>James Cameron</td><td>8.1</td></tr>\n",
              "\t<tr><td>Heavenly Creatures                               </td><td>New Zealand</td><td>Peter Jackson</td><td>7.4</td></tr>\n",
              "</tbody>\n",
              "</table>\n"
            ],
            "text/markdown": "\nA data.table: 7 × 4\n\n| movie_title &lt;chr&gt; | country &lt;chr&gt; | director_name &lt;chr&gt; | imdb_score &lt;dbl&gt; |\n|---|---|---|---|\n| The Hobbit: The Battle of the Five Armies         | New Zealand | Peter Jackson | 7.5 |\n| King Kong                                         | New Zealand | Peter Jackson | 7.2 |\n| The Lord of the Rings: The Fellowship of the Ring | New Zealand | Peter Jackson | 8.8 |\n| The Lord of the Rings: The Return of the King     | USA         | Peter Jackson | 8.9 |\n| The Lord of the Rings: The Two Towers             | USA         | Peter Jackson | 8.7 |\n| The Terminator                                    | UK          | James Cameron | 8.1 |\n| Heavenly Creatures                                | New Zealand | Peter Jackson | 7.4 |\n\n",
            "text/latex": "A data.table: 7 × 4\n\\begin{tabular}{llll}\n movie\\_title & country & director\\_name & imdb\\_score\\\\\n <chr> & <chr> & <chr> & <dbl>\\\\\n\\hline\n\t The Hobbit: The Battle of the Five Armies         & New Zealand & Peter Jackson & 7.5\\\\\n\t King Kong                                         & New Zealand & Peter Jackson & 7.2\\\\\n\t The Lord of the Rings: The Fellowship of the Ring & New Zealand & Peter Jackson & 8.8\\\\\n\t The Lord of the Rings: The Return of the King     & USA         & Peter Jackson & 8.9\\\\\n\t The Lord of the Rings: The Two Towers             & USA         & Peter Jackson & 8.7\\\\\n\t The Terminator                                    & UK          & James Cameron & 8.1\\\\\n\t Heavenly Creatures                                & New Zealand & Peter Jackson & 7.4\\\\\n\\end{tabular}\n",
            "text/plain": [
              "  movie_title                                       country     director_name\n",
              "1 The Hobbit: The Battle of the Five Armies         New Zealand Peter Jackson\n",
              "2 King Kong                                         New Zealand Peter Jackson\n",
              "3 The Lord of the Rings: The Fellowship of the Ring New Zealand Peter Jackson\n",
              "4 The Lord of the Rings: The Return of the King     USA         Peter Jackson\n",
              "5 The Lord of the Rings: The Two Towers             USA         Peter Jackson\n",
              "6 The Terminator                                    UK          James Cameron\n",
              "7 Heavenly Creatures                                New Zealand Peter Jackson\n",
              "  imdb_score\n",
              "1 7.5       \n",
              "2 7.2       \n",
              "3 8.8       \n",
              "4 8.9       \n",
              "5 8.7       \n",
              "6 8.1       \n",
              "7 7.4       "
            ]
          },
          "metadata": {}
        }
      ]
    },
    {
      "cell_type": "markdown",
      "source": [
        "### Ejercicio #3  \n",
        "\n",
        "#### EX 3A. Importar dataframe. Seleccionar columnas \"Company\", \"Sector\" y \"Revenue\".\n",
        "#### EX 3B. Crear una columna \"Profits_per_Employee\" como operación entre las columnas \"Profits\" / \"Employees\".\n",
        "\n",
        "\n",
        "> Dataset https://data-wizards.s3.amazonaws.com/datasets/fortune1000.csv\n"
      ],
      "metadata": {
        "id": "EpbpIE7jBv7t"
      }
    },
    {
      "cell_type": "code",
      "source": [
        "# importamos librería\n",
        "require(data.table)"
      ],
      "metadata": {
        "id": "OYZsk8_QB0UL"
      },
      "execution_count": null,
      "outputs": []
    },
    {
      "cell_type": "code",
      "source": [
        "# importamos df\n",
        "df_fortune = data.table::fread('https://data-wizards.s3.amazonaws.com/datasets/fortune1000.csv')\n",
        "str(df_fortune)"
      ],
      "metadata": {
        "colab": {
          "base_uri": "https://localhost:8080/"
        },
        "id": "JUajB9_lIwc6",
        "outputId": "18647404-cfe1-4126-fddb-38a6b9d7866d"
      },
      "execution_count": null,
      "outputs": [
        {
          "output_type": "stream",
          "name": "stdout",
          "text": [
            "Classes ‘data.table’ and 'data.frame':\t1000 obs. of  8 variables:\n",
            " $ Rank     : int  1 2 3 4 5 6 7 8 9 10 ...\n",
            " $ Company  : chr  \"Walmart\" \"Exxon Mobil\" \"Apple\" \"Berkshire Hathaway\" ...\n",
            " $ Sector   : chr  \"Retailing\" \"Energy\" \"Technology\" \"Financials\" ...\n",
            " $ Industry : chr  \"General Merchandisers\" \"Petroleum Refining\" \"Computers, Office Equipment\" \"Insurance: Property and Casualty (Stock)\" ...\n",
            " $ Location : chr  \"Bentonville, AR\" \"Irving, TX\" \"Cupertino, CA\" \"Omaha, NE\" ...\n",
            " $ Revenue  : int  482130 246204 233715 210821 181241 157107 153290 152356 149558 146801 ...\n",
            " $ Profits  : int  14694 16150 53394 24083 1476 5813 5237 9687 7373 13345 ...\n",
            " $ Employees: int  2300000 75600 110000 331000 70400 200000 199000 215000 199000 281450 ...\n",
            " - attr(*, \".internal.selfref\")=<externalptr> \n"
          ]
        }
      ]
    },
    {
      "cell_type": "code",
      "source": [
        "# 1.A\n",
        "df_fortune[,c('Company','Sector','Revenue')]"
      ],
      "metadata": {
        "colab": {
          "base_uri": "https://localhost:8080/",
          "height": 1000
        },
        "id": "3gwe14fvIwfO",
        "outputId": "f9ea84a2-8af2-4783-db8c-f4e14aa7b487"
      },
      "execution_count": null,
      "outputs": [
        {
          "output_type": "display_data",
          "data": {
            "text/html": [
              "<table class=\"dataframe\">\n",
              "<caption>A data.table: 1000 × 3</caption>\n",
              "<thead>\n",
              "\t<tr><th scope=col>Company</th><th scope=col>Sector</th><th scope=col>Revenue</th></tr>\n",
              "\t<tr><th scope=col>&lt;chr&gt;</th><th scope=col>&lt;chr&gt;</th><th scope=col>&lt;int&gt;</th></tr>\n",
              "</thead>\n",
              "<tbody>\n",
              "\t<tr><td>Walmart                 </td><td>Retailing             </td><td>482130</td></tr>\n",
              "\t<tr><td>Exxon Mobil             </td><td>Energy                </td><td>246204</td></tr>\n",
              "\t<tr><td>Apple                   </td><td>Technology            </td><td>233715</td></tr>\n",
              "\t<tr><td>Berkshire Hathaway      </td><td>Financials            </td><td>210821</td></tr>\n",
              "\t<tr><td>McKesson                </td><td>Health Care           </td><td>181241</td></tr>\n",
              "\t<tr><td>UnitedHealth Group      </td><td>Health Care           </td><td>157107</td></tr>\n",
              "\t<tr><td>CVS Health              </td><td>Food and Drug Stores  </td><td>153290</td></tr>\n",
              "\t<tr><td><span style=white-space:pre-wrap>General Motors          </span></td><td>Motor Vehicles &amp; Parts</td><td>152356</td></tr>\n",
              "\t<tr><td><span style=white-space:pre-wrap>Ford Motor              </span></td><td>Motor Vehicles &amp; Parts</td><td>149558</td></tr>\n",
              "\t<tr><td><span style=white-space:pre-wrap>AT&amp;T                    </span></td><td><span style=white-space:pre-wrap>Telecommunications    </span></td><td>146801</td></tr>\n",
              "\t<tr><td>General Electric        </td><td>Industrials           </td><td>140389</td></tr>\n",
              "\t<tr><td>AmerisourceBergen       </td><td>Health Care           </td><td>135962</td></tr>\n",
              "\t<tr><td>Verizon                 </td><td>Telecommunications    </td><td>131620</td></tr>\n",
              "\t<tr><td>Chevron                 </td><td>Energy                </td><td>131118</td></tr>\n",
              "\t<tr><td>Costco                  </td><td>Retailing             </td><td>116199</td></tr>\n",
              "\t<tr><td>Fannie Mae              </td><td>Financials            </td><td>110359</td></tr>\n",
              "\t<tr><td>Kroger                  </td><td>Food and Drug Stores  </td><td>109830</td></tr>\n",
              "\t<tr><td>Amazon.com              </td><td>Technology            </td><td>107006</td></tr>\n",
              "\t<tr><td>Walgreens Boots Alliance</td><td>Food and Drug Stores  </td><td>103444</td></tr>\n",
              "\t<tr><td>HP                      </td><td>Technology            </td><td>103355</td></tr>\n",
              "\t<tr><td>Cardinal Health         </td><td>Health Care           </td><td>102531</td></tr>\n",
              "\t<tr><td>Express Scripts Holding </td><td>Health Care           </td><td>101752</td></tr>\n",
              "\t<tr><td>J.P. Morgan Chase       </td><td>Financials            </td><td>101006</td></tr>\n",
              "\t<tr><td><span style=white-space:pre-wrap>Boeing                  </span></td><td><span style=white-space:pre-wrap>Aerospace &amp; Defense   </span></td><td> 96114</td></tr>\n",
              "\t<tr><td>Microsoft               </td><td>Technology            </td><td> 93580</td></tr>\n",
              "\t<tr><td>Bank of America Corp.   </td><td>Financials            </td><td> 93056</td></tr>\n",
              "\t<tr><td>Wells Fargo             </td><td>Financials            </td><td> 90033</td></tr>\n",
              "\t<tr><td>Home Depot              </td><td>Retailing             </td><td> 88519</td></tr>\n",
              "\t<tr><td>Citigroup               </td><td>Financials            </td><td> 88275</td></tr>\n",
              "\t<tr><td>Phillips 66             </td><td>Energy                </td><td> 87169</td></tr>\n",
              "\t<tr><td>⋮</td><td>⋮</td><td>⋮</td></tr>\n",
              "\t<tr><td>VeriFone Systems                 </td><td>Technology                  </td><td>2001</td></tr>\n",
              "\t<tr><td><span style=white-space:pre-wrap>Genesee &amp; Wyoming                </span></td><td><span style=white-space:pre-wrap>Transportation              </span></td><td>2000</td></tr>\n",
              "\t<tr><td>99 Cents Only Stores             </td><td>Retailing                   </td><td>1999</td></tr>\n",
              "\t<tr><td>Roadrunner Transportation Systems</td><td>Transportation              </td><td>1995</td></tr>\n",
              "\t<tr><td>Super Micro Computer             </td><td>Technology                  </td><td>1991</td></tr>\n",
              "\t<tr><td>First Republic Bank              </td><td>Financials                  </td><td>1989</td></tr>\n",
              "\t<tr><td>Hill-Rom Holdings                </td><td>Health Care                 </td><td>1988</td></tr>\n",
              "\t<tr><td>Providence Service               </td><td>Health Care                 </td><td>1987</td></tr>\n",
              "\t<tr><td><span style=white-space:pre-wrap>Allison Transmission Holdings    </span></td><td><span style=white-space:pre-wrap>Motor Vehicles &amp; Parts      </span></td><td>1986</td></tr>\n",
              "\t<tr><td>Spire                            </td><td>Energy                      </td><td>1976</td></tr>\n",
              "\t<tr><td>WPX Energy                       </td><td>Energy                      </td><td>1958</td></tr>\n",
              "\t<tr><td>Century Aluminum                 </td><td>Materials                   </td><td>1950</td></tr>\n",
              "\t<tr><td><span style=white-space:pre-wrap>Adams Resources &amp; Energy         </span></td><td><span style=white-space:pre-wrap>Energy                      </span></td><td>1944</td></tr>\n",
              "\t<tr><td>Nuance Communications            </td><td>Technology                  </td><td>1931</td></tr>\n",
              "\t<tr><td><span style=white-space:pre-wrap>Primoris Services                </span></td><td><span style=white-space:pre-wrap>Engineering &amp; Construction  </span></td><td>1929</td></tr>\n",
              "\t<tr><td>Schnitzer Steel Industries       </td><td>Materials                   </td><td>1924</td></tr>\n",
              "\t<tr><td><span style=white-space:pre-wrap>Delta Tucker Holdings            </span></td><td><span style=white-space:pre-wrap>Aerospace &amp; Defense         </span></td><td>1923</td></tr>\n",
              "\t<tr><td>Hospitality Properties Trust     </td><td>Financials                  </td><td>1922</td></tr>\n",
              "\t<tr><td>Cenveo                           </td><td>Media                       </td><td>1921</td></tr>\n",
              "\t<tr><td>F5 Networks                      </td><td>Technology                  </td><td>1920</td></tr>\n",
              "\t<tr><td>BlueLinx Holdings                </td><td>Wholesalers                 </td><td>1917</td></tr>\n",
              "\t<tr><td>Revlon                           </td><td>Household Products          </td><td>1914</td></tr>\n",
              "\t<tr><td>DeVry Education Group            </td><td>Business Services           </td><td>1910</td></tr>\n",
              "\t<tr><td><span style=white-space:pre-wrap>MDC Holdings                     </span></td><td><span style=white-space:pre-wrap>Engineering &amp; Construction  </span></td><td>1909</td></tr>\n",
              "\t<tr><td>EP Energy                        </td><td>Energy                      </td><td>1908</td></tr>\n",
              "\t<tr><td>New York Community Bancorp       </td><td>Financials                  </td><td>1902</td></tr>\n",
              "\t<tr><td>Portland General Electric        </td><td>Energy                      </td><td>1898</td></tr>\n",
              "\t<tr><td>Portland General Electric        </td><td>Energy                      </td><td>1898</td></tr>\n",
              "\t<tr><td><span style=white-space:pre-wrap>Wendy’s                          </span></td><td>Hotels, Resturants &amp; Leisure</td><td>1896</td></tr>\n",
              "\t<tr><td><span style=white-space:pre-wrap>Briggs &amp; Stratton                </span></td><td><span style=white-space:pre-wrap>Industrials                 </span></td><td>1895</td></tr>\n",
              "</tbody>\n",
              "</table>\n"
            ],
            "text/markdown": "\nA data.table: 1000 × 3\n\n| Company &lt;chr&gt; | Sector &lt;chr&gt; | Revenue &lt;int&gt; |\n|---|---|---|\n| Walmart                  | Retailing              | 482130 |\n| Exxon Mobil              | Energy                 | 246204 |\n| Apple                    | Technology             | 233715 |\n| Berkshire Hathaway       | Financials             | 210821 |\n| McKesson                 | Health Care            | 181241 |\n| UnitedHealth Group       | Health Care            | 157107 |\n| CVS Health               | Food and Drug Stores   | 153290 |\n| General Motors           | Motor Vehicles &amp; Parts | 152356 |\n| Ford Motor               | Motor Vehicles &amp; Parts | 149558 |\n| AT&amp;T                     | Telecommunications     | 146801 |\n| General Electric         | Industrials            | 140389 |\n| AmerisourceBergen        | Health Care            | 135962 |\n| Verizon                  | Telecommunications     | 131620 |\n| Chevron                  | Energy                 | 131118 |\n| Costco                   | Retailing              | 116199 |\n| Fannie Mae               | Financials             | 110359 |\n| Kroger                   | Food and Drug Stores   | 109830 |\n| Amazon.com               | Technology             | 107006 |\n| Walgreens Boots Alliance | Food and Drug Stores   | 103444 |\n| HP                       | Technology             | 103355 |\n| Cardinal Health          | Health Care            | 102531 |\n| Express Scripts Holding  | Health Care            | 101752 |\n| J.P. Morgan Chase        | Financials             | 101006 |\n| Boeing                   | Aerospace &amp; Defense    |  96114 |\n| Microsoft                | Technology             |  93580 |\n| Bank of America Corp.    | Financials             |  93056 |\n| Wells Fargo              | Financials             |  90033 |\n| Home Depot               | Retailing              |  88519 |\n| Citigroup                | Financials             |  88275 |\n| Phillips 66              | Energy                 |  87169 |\n| ⋮ | ⋮ | ⋮ |\n| VeriFone Systems                  | Technology                   | 2001 |\n| Genesee &amp; Wyoming                 | Transportation               | 2000 |\n| 99 Cents Only Stores              | Retailing                    | 1999 |\n| Roadrunner Transportation Systems | Transportation               | 1995 |\n| Super Micro Computer              | Technology                   | 1991 |\n| First Republic Bank               | Financials                   | 1989 |\n| Hill-Rom Holdings                 | Health Care                  | 1988 |\n| Providence Service                | Health Care                  | 1987 |\n| Allison Transmission Holdings     | Motor Vehicles &amp; Parts       | 1986 |\n| Spire                             | Energy                       | 1976 |\n| WPX Energy                        | Energy                       | 1958 |\n| Century Aluminum                  | Materials                    | 1950 |\n| Adams Resources &amp; Energy          | Energy                       | 1944 |\n| Nuance Communications             | Technology                   | 1931 |\n| Primoris Services                 | Engineering &amp; Construction   | 1929 |\n| Schnitzer Steel Industries        | Materials                    | 1924 |\n| Delta Tucker Holdings             | Aerospace &amp; Defense          | 1923 |\n| Hospitality Properties Trust      | Financials                   | 1922 |\n| Cenveo                            | Media                        | 1921 |\n| F5 Networks                       | Technology                   | 1920 |\n| BlueLinx Holdings                 | Wholesalers                  | 1917 |\n| Revlon                            | Household Products           | 1914 |\n| DeVry Education Group             | Business Services            | 1910 |\n| MDC Holdings                      | Engineering &amp; Construction   | 1909 |\n| EP Energy                         | Energy                       | 1908 |\n| New York Community Bancorp        | Financials                   | 1902 |\n| Portland General Electric         | Energy                       | 1898 |\n| Portland General Electric         | Energy                       | 1898 |\n| Wendy’s                           | Hotels, Resturants &amp; Leisure | 1896 |\n| Briggs &amp; Stratton                 | Industrials                  | 1895 |\n\n",
            "text/latex": "A data.table: 1000 × 3\n\\begin{tabular}{lll}\n Company & Sector & Revenue\\\\\n <chr> & <chr> & <int>\\\\\n\\hline\n\t Walmart                  & Retailing              & 482130\\\\\n\t Exxon Mobil              & Energy                 & 246204\\\\\n\t Apple                    & Technology             & 233715\\\\\n\t Berkshire Hathaway       & Financials             & 210821\\\\\n\t McKesson                 & Health Care            & 181241\\\\\n\t UnitedHealth Group       & Health Care            & 157107\\\\\n\t CVS Health               & Food and Drug Stores   & 153290\\\\\n\t General Motors           & Motor Vehicles \\& Parts & 152356\\\\\n\t Ford Motor               & Motor Vehicles \\& Parts & 149558\\\\\n\t AT\\&T                     & Telecommunications     & 146801\\\\\n\t General Electric         & Industrials            & 140389\\\\\n\t AmerisourceBergen        & Health Care            & 135962\\\\\n\t Verizon                  & Telecommunications     & 131620\\\\\n\t Chevron                  & Energy                 & 131118\\\\\n\t Costco                   & Retailing              & 116199\\\\\n\t Fannie Mae               & Financials             & 110359\\\\\n\t Kroger                   & Food and Drug Stores   & 109830\\\\\n\t Amazon.com               & Technology             & 107006\\\\\n\t Walgreens Boots Alliance & Food and Drug Stores   & 103444\\\\\n\t HP                       & Technology             & 103355\\\\\n\t Cardinal Health          & Health Care            & 102531\\\\\n\t Express Scripts Holding  & Health Care            & 101752\\\\\n\t J.P. Morgan Chase        & Financials             & 101006\\\\\n\t Boeing                   & Aerospace \\& Defense    &  96114\\\\\n\t Microsoft                & Technology             &  93580\\\\\n\t Bank of America Corp.    & Financials             &  93056\\\\\n\t Wells Fargo              & Financials             &  90033\\\\\n\t Home Depot               & Retailing              &  88519\\\\\n\t Citigroup                & Financials             &  88275\\\\\n\t Phillips 66              & Energy                 &  87169\\\\\n\t ⋮ & ⋮ & ⋮\\\\\n\t VeriFone Systems                  & Technology                   & 2001\\\\\n\t Genesee \\& Wyoming                 & Transportation               & 2000\\\\\n\t 99 Cents Only Stores              & Retailing                    & 1999\\\\\n\t Roadrunner Transportation Systems & Transportation               & 1995\\\\\n\t Super Micro Computer              & Technology                   & 1991\\\\\n\t First Republic Bank               & Financials                   & 1989\\\\\n\t Hill-Rom Holdings                 & Health Care                  & 1988\\\\\n\t Providence Service                & Health Care                  & 1987\\\\\n\t Allison Transmission Holdings     & Motor Vehicles \\& Parts       & 1986\\\\\n\t Spire                             & Energy                       & 1976\\\\\n\t WPX Energy                        & Energy                       & 1958\\\\\n\t Century Aluminum                  & Materials                    & 1950\\\\\n\t Adams Resources \\& Energy          & Energy                       & 1944\\\\\n\t Nuance Communications             & Technology                   & 1931\\\\\n\t Primoris Services                 & Engineering \\& Construction   & 1929\\\\\n\t Schnitzer Steel Industries        & Materials                    & 1924\\\\\n\t Delta Tucker Holdings             & Aerospace \\& Defense          & 1923\\\\\n\t Hospitality Properties Trust      & Financials                   & 1922\\\\\n\t Cenveo                            & Media                        & 1921\\\\\n\t F5 Networks                       & Technology                   & 1920\\\\\n\t BlueLinx Holdings                 & Wholesalers                  & 1917\\\\\n\t Revlon                            & Household Products           & 1914\\\\\n\t DeVry Education Group             & Business Services            & 1910\\\\\n\t MDC Holdings                      & Engineering \\& Construction   & 1909\\\\\n\t EP Energy                         & Energy                       & 1908\\\\\n\t New York Community Bancorp        & Financials                   & 1902\\\\\n\t Portland General Electric         & Energy                       & 1898\\\\\n\t Portland General Electric         & Energy                       & 1898\\\\\n\t Wendy’s                           & Hotels, Resturants \\& Leisure & 1896\\\\\n\t Briggs \\& Stratton                 & Industrials                  & 1895\\\\\n\\end{tabular}\n",
            "text/plain": [
              "     Company                           Sector                       Revenue\n",
              "1    Walmart                           Retailing                    482130 \n",
              "2    Exxon Mobil                       Energy                       246204 \n",
              "3    Apple                             Technology                   233715 \n",
              "4    Berkshire Hathaway                Financials                   210821 \n",
              "5    McKesson                          Health Care                  181241 \n",
              "6    UnitedHealth Group                Health Care                  157107 \n",
              "7    CVS Health                        Food and Drug Stores         153290 \n",
              "8    General Motors                    Motor Vehicles & Parts       152356 \n",
              "9    Ford Motor                        Motor Vehicles & Parts       149558 \n",
              "10   AT&T                              Telecommunications           146801 \n",
              "11   General Electric                  Industrials                  140389 \n",
              "12   AmerisourceBergen                 Health Care                  135962 \n",
              "13   Verizon                           Telecommunications           131620 \n",
              "14   Chevron                           Energy                       131118 \n",
              "15   Costco                            Retailing                    116199 \n",
              "16   Fannie Mae                        Financials                   110359 \n",
              "17   Kroger                            Food and Drug Stores         109830 \n",
              "18   Amazon.com                        Technology                   107006 \n",
              "19   Walgreens Boots Alliance          Food and Drug Stores         103444 \n",
              "20   HP                                Technology                   103355 \n",
              "21   Cardinal Health                   Health Care                  102531 \n",
              "22   Express Scripts Holding           Health Care                  101752 \n",
              "23   J.P. Morgan Chase                 Financials                   101006 \n",
              "24   Boeing                            Aerospace & Defense           96114 \n",
              "25   Microsoft                         Technology                    93580 \n",
              "26   Bank of America Corp.             Financials                    93056 \n",
              "27   Wells Fargo                       Financials                    90033 \n",
              "28   Home Depot                        Retailing                     88519 \n",
              "29   Citigroup                         Financials                    88275 \n",
              "30   Phillips 66                       Energy                        87169 \n",
              "⋮    ⋮                                 ⋮                            ⋮      \n",
              "971  VeriFone Systems                  Technology                   2001   \n",
              "972  Genesee & Wyoming                 Transportation               2000   \n",
              "973  99 Cents Only Stores              Retailing                    1999   \n",
              "974  Roadrunner Transportation Systems Transportation               1995   \n",
              "975  Super Micro Computer              Technology                   1991   \n",
              "976  First Republic Bank               Financials                   1989   \n",
              "977  Hill-Rom Holdings                 Health Care                  1988   \n",
              "978  Providence Service                Health Care                  1987   \n",
              "979  Allison Transmission Holdings     Motor Vehicles & Parts       1986   \n",
              "980  Spire                             Energy                       1976   \n",
              "981  WPX Energy                        Energy                       1958   \n",
              "982  Century Aluminum                  Materials                    1950   \n",
              "983  Adams Resources & Energy          Energy                       1944   \n",
              "984  Nuance Communications             Technology                   1931   \n",
              "985  Primoris Services                 Engineering & Construction   1929   \n",
              "986  Schnitzer Steel Industries        Materials                    1924   \n",
              "987  Delta Tucker Holdings             Aerospace & Defense          1923   \n",
              "988  Hospitality Properties Trust      Financials                   1922   \n",
              "989  Cenveo                            Media                        1921   \n",
              "990  F5 Networks                       Technology                   1920   \n",
              "991  BlueLinx Holdings                 Wholesalers                  1917   \n",
              "992  Revlon                            Household Products           1914   \n",
              "993  DeVry Education Group             Business Services            1910   \n",
              "994  MDC Holdings                      Engineering & Construction   1909   \n",
              "995  EP Energy                         Energy                       1908   \n",
              "996  New York Community Bancorp        Financials                   1902   \n",
              "997  Portland General Electric         Energy                       1898   \n",
              "998  Portland General Electric         Energy                       1898   \n",
              "999  Wendy’s                           Hotels, Resturants & Leisure 1896   \n",
              "1000 Briggs & Stratton                 Industrials                  1895   "
            ]
          },
          "metadata": {}
        }
      ]
    },
    {
      "cell_type": "code",
      "source": [
        "# 1.B\n",
        "df_fortune$profits_per_employee = round(df_fortune$Profits / df_fortune$Employees, 2)\n",
        "head(df_fortune)"
      ],
      "metadata": {
        "colab": {
          "base_uri": "https://localhost:8080/",
          "height": 286
        },
        "id": "pCYzXL-hB0We",
        "outputId": "caef59bb-b12b-4bfc-bdec-a5873d08a391"
      },
      "execution_count": null,
      "outputs": [
        {
          "output_type": "display_data",
          "data": {
            "text/html": [
              "<table class=\"dataframe\">\n",
              "<caption>A data.table: 6 × 9</caption>\n",
              "<thead>\n",
              "\t<tr><th scope=col>Rank</th><th scope=col>Company</th><th scope=col>Sector</th><th scope=col>Industry</th><th scope=col>Location</th><th scope=col>Revenue</th><th scope=col>Profits</th><th scope=col>Employees</th><th scope=col>profits_per_employee</th></tr>\n",
              "\t<tr><th scope=col>&lt;int&gt;</th><th scope=col>&lt;chr&gt;</th><th scope=col>&lt;chr&gt;</th><th scope=col>&lt;chr&gt;</th><th scope=col>&lt;chr&gt;</th><th scope=col>&lt;int&gt;</th><th scope=col>&lt;int&gt;</th><th scope=col>&lt;int&gt;</th><th scope=col>&lt;dbl&gt;</th></tr>\n",
              "</thead>\n",
              "<tbody>\n",
              "\t<tr><td>1</td><td>Walmart           </td><td>Retailing  </td><td>General Merchandisers                   </td><td>Bentonville, AR  </td><td>482130</td><td>14694</td><td>2300000</td><td>0.01</td></tr>\n",
              "\t<tr><td>2</td><td>Exxon Mobil       </td><td>Energy     </td><td>Petroleum Refining                      </td><td>Irving, TX       </td><td>246204</td><td>16150</td><td>  75600</td><td>0.21</td></tr>\n",
              "\t<tr><td>3</td><td>Apple             </td><td>Technology </td><td>Computers, Office Equipment             </td><td>Cupertino, CA    </td><td>233715</td><td>53394</td><td> 110000</td><td>0.49</td></tr>\n",
              "\t<tr><td>4</td><td>Berkshire Hathaway</td><td>Financials </td><td>Insurance: Property and Casualty (Stock)</td><td>Omaha, NE        </td><td>210821</td><td>24083</td><td> 331000</td><td>0.07</td></tr>\n",
              "\t<tr><td>5</td><td>McKesson          </td><td>Health Care</td><td>Wholesalers: Health Care                </td><td>San Francisco, CA</td><td>181241</td><td> 1476</td><td>  70400</td><td>0.02</td></tr>\n",
              "\t<tr><td>6</td><td>UnitedHealth Group</td><td>Health Care</td><td>Health Care: Insurance and Managed Care </td><td>Minnetonka, MN   </td><td>157107</td><td> 5813</td><td> 200000</td><td>0.03</td></tr>\n",
              "</tbody>\n",
              "</table>\n"
            ],
            "text/markdown": "\nA data.table: 6 × 9\n\n| Rank &lt;int&gt; | Company &lt;chr&gt; | Sector &lt;chr&gt; | Industry &lt;chr&gt; | Location &lt;chr&gt; | Revenue &lt;int&gt; | Profits &lt;int&gt; | Employees &lt;int&gt; | profits_per_employee &lt;dbl&gt; |\n|---|---|---|---|---|---|---|---|---|\n| 1 | Walmart            | Retailing   | General Merchandisers                    | Bentonville, AR   | 482130 | 14694 | 2300000 | 0.01 |\n| 2 | Exxon Mobil        | Energy      | Petroleum Refining                       | Irving, TX        | 246204 | 16150 |   75600 | 0.21 |\n| 3 | Apple              | Technology  | Computers, Office Equipment              | Cupertino, CA     | 233715 | 53394 |  110000 | 0.49 |\n| 4 | Berkshire Hathaway | Financials  | Insurance: Property and Casualty (Stock) | Omaha, NE         | 210821 | 24083 |  331000 | 0.07 |\n| 5 | McKesson           | Health Care | Wholesalers: Health Care                 | San Francisco, CA | 181241 |  1476 |   70400 | 0.02 |\n| 6 | UnitedHealth Group | Health Care | Health Care: Insurance and Managed Care  | Minnetonka, MN    | 157107 |  5813 |  200000 | 0.03 |\n\n",
            "text/latex": "A data.table: 6 × 9\n\\begin{tabular}{lllllllll}\n Rank & Company & Sector & Industry & Location & Revenue & Profits & Employees & profits\\_per\\_employee\\\\\n <int> & <chr> & <chr> & <chr> & <chr> & <int> & <int> & <int> & <dbl>\\\\\n\\hline\n\t 1 & Walmart            & Retailing   & General Merchandisers                    & Bentonville, AR   & 482130 & 14694 & 2300000 & 0.01\\\\\n\t 2 & Exxon Mobil        & Energy      & Petroleum Refining                       & Irving, TX        & 246204 & 16150 &   75600 & 0.21\\\\\n\t 3 & Apple              & Technology  & Computers, Office Equipment              & Cupertino, CA     & 233715 & 53394 &  110000 & 0.49\\\\\n\t 4 & Berkshire Hathaway & Financials  & Insurance: Property and Casualty (Stock) & Omaha, NE         & 210821 & 24083 &  331000 & 0.07\\\\\n\t 5 & McKesson           & Health Care & Wholesalers: Health Care                 & San Francisco, CA & 181241 &  1476 &   70400 & 0.02\\\\\n\t 6 & UnitedHealth Group & Health Care & Health Care: Insurance and Managed Care  & Minnetonka, MN    & 157107 &  5813 &  200000 & 0.03\\\\\n\\end{tabular}\n",
            "text/plain": [
              "  Rank Company            Sector      Industry                                \n",
              "1 1    Walmart            Retailing   General Merchandisers                   \n",
              "2 2    Exxon Mobil        Energy      Petroleum Refining                      \n",
              "3 3    Apple              Technology  Computers, Office Equipment             \n",
              "4 4    Berkshire Hathaway Financials  Insurance: Property and Casualty (Stock)\n",
              "5 5    McKesson           Health Care Wholesalers: Health Care                \n",
              "6 6    UnitedHealth Group Health Care Health Care: Insurance and Managed Care \n",
              "  Location          Revenue Profits Employees profits_per_employee\n",
              "1 Bentonville, AR   482130  14694   2300000   0.01                \n",
              "2 Irving, TX        246204  16150     75600   0.21                \n",
              "3 Cupertino, CA     233715  53394    110000   0.49                \n",
              "4 Omaha, NE         210821  24083    331000   0.07                \n",
              "5 San Francisco, CA 181241   1476     70400   0.02                \n",
              "6 Minnetonka, MN    157107   5813    200000   0.03                "
            ]
          },
          "metadata": {}
        }
      ]
    }
  ]
}