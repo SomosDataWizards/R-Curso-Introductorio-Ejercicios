{
  "nbformat": 4,
  "nbformat_minor": 0,
  "metadata": {
    "colab": {
      "provenance": [],
      "toc_visible": true,
      "collapsed_sections": [
        "cndfqZw4ZSwG",
        "1VUN9G4lZbdt",
        "CZBKDTT9ZaBU"
      ]
    },
    "kernelspec": {
      "name": "ir",
      "display_name": "R"
    }
  },
  "cells": [
    {
      "cell_type": "markdown",
      "source": [
        "# **Introducción a R para Análisis de Datos**\n",
        "## Capítulo 3: Manipulación Básica\n",
        "---\n",
        "Acerca de este notebook\n",
        "* **Autor:** Juan Martin Bellido\n",
        "* **Descripción:** *este notebook incluye las soluciones a los ejercicios del capítulo 3*\n",
        "* **¿Feedback? ¿comentarios?** Por favor compártelo conmigo escribiéndome por [LinkedIn](https://www.linkedin.com/in/jmartinbellido/)\n"
      ],
      "metadata": {
        "id": "pjPZkfoCeSPe"
      }
    },
    {
      "cell_type": "markdown",
      "source": [
        "# Capítulo 3: Ejercicios\n",
        "---"
      ],
      "metadata": {
        "id": "KjRhclMSX-T7"
      }
    },
    {
      "cell_type": "code",
      "metadata": {
        "id": "wLlxs1m-tpjO",
        "colab": {
          "base_uri": "https://localhost:8080/"
        },
        "outputId": "53313bb1-5c9c-4b75-e851-0b9f0e6a2e34"
      },
      "source": [
        "# instalamos librería \"data.table\" porque Google colab no la incluye por defecto\n",
        "install.packages(\"data.table\")"
      ],
      "execution_count": null,
      "outputs": [
        {
          "output_type": "stream",
          "name": "stderr",
          "text": [
            "Installing package into ‘/usr/local/lib/R/site-library’\n",
            "(as ‘lib’ is unspecified)\n",
            "\n"
          ]
        }
      ]
    },
    {
      "cell_type": "code",
      "metadata": {
        "id": "-w2HuB9hz5fM"
      },
      "source": [
        "# (opcional) editamos las opciones globales para evitar que R utilice notación científica\n",
        "options(scipen=999)"
      ],
      "execution_count": null,
      "outputs": []
    },
    {
      "cell_type": "markdown",
      "metadata": {
        "id": "zVZ6ejzbA9RS"
      },
      "source": [
        "### Ejercicio #1\n",
        "Partiendo del dataset de personajes de Star Wars, filtrar por aquellos que sean originarios de \"Tatooine\", \"Naboo\" o \"Kashyyyk\". Seleccionar únicamente columnas name, homeworld y species\n",
        "\n",
        "> *Dataset https://data-wizards.s3.amazonaws.com/datasets/dataset_star_wars.csv*\n"
      ]
    },
    {
      "cell_type": "code",
      "source": [
        "# importamos las librerías\n",
        "require(dplyr)\n",
        "require(data.table)"
      ],
      "metadata": {
        "id": "g8TohTJwNSD3"
      },
      "execution_count": null,
      "outputs": []
    },
    {
      "cell_type": "code",
      "metadata": {
        "id": "zZEC53WNEXGF"
      },
      "source": [
        "# importamos df\n",
        "df_star_wars = fread(\"https://data-wizards.s3.amazonaws.com/datasets/dataset_star_wars.csv\")\n",
        "glimpse(df_star_wars)"
      ],
      "execution_count": null,
      "outputs": []
    },
    {
      "cell_type": "code",
      "source": [
        "# filtramos filas, seleccionamos columnas\n",
        "df_star_wars %>% filter(\n",
        "  homeworld %in% c('Tatooine','Naboo','Kashyyyk')\n",
        ") %>% select(\n",
        "  name,\n",
        "  homeworld,\n",
        "  species\n",
        ")"
      ],
      "metadata": {
        "id": "42Xk9bcwM_TW"
      },
      "execution_count": null,
      "outputs": []
    },
    {
      "cell_type": "markdown",
      "metadata": {
        "id": "p4VdllEpCRjk"
      },
      "source": [
        "### Ejercicio #2\n",
        "Importa el dataset de valoraciones de películas de IMDB, filtrar por películas  \n",
        "(i) cuyo actor principal (*actor_1_name*) sea Johnny Depp y su valoración (*imdb score*) mayor a 7, o   \n",
        "(ii) cuyo director sea James Cameron y su valoración mayor a 8. \n",
        "\n",
        "Seleccionar únicamente variables *actor_1_name*, *director_name*, *imdb_score*.\n",
        "\n",
        "> *Dataset https://data-wizards.s3.amazonaws.com/datasets/movies.csv*"
      ]
    },
    {
      "cell_type": "code",
      "source": [
        "# importamos las librerías\n",
        "require(dplyr)\n",
        "require(data.table)"
      ],
      "metadata": {
        "id": "d4lPAD8DONDI"
      },
      "execution_count": null,
      "outputs": []
    },
    {
      "cell_type": "code",
      "metadata": {
        "id": "bj8IsadUCUqV"
      },
      "source": [
        "# importar el dataset\n",
        "df_movies = fread(\"https://data-wizards.s3.amazonaws.com/datasets/movies.csv\")\n",
        "glimpse(df_movies)"
      ],
      "execution_count": null,
      "outputs": []
    },
    {
      "cell_type": "code",
      "source": [
        "# filtramos filas, seleccionamos columnas\n",
        "df_movies %>% filter(\n",
        "  (actor_1_name == 'Johnny Depp' & imdb_score > 7) | (director_name == 'James Cameron' & imdb_score > 8)\n",
        ") %>% select(\n",
        "  actor_1_name,\n",
        "  director_name,\n",
        "  imdb_score\n",
        ")"
      ],
      "metadata": {
        "id": "DC-Ty0pVOKw-"
      },
      "execution_count": null,
      "outputs": []
    },
    {
      "cell_type": "markdown",
      "metadata": {
        "id": "uwhCPucp_svi"
      },
      "source": [
        "### Ejercicio #3\n",
        "Importa el dataset con datos del WHO (*World Health Organization*) y crea una nueva variable que identifique si un país está por debajo de la mediana de PIB per cápita mundial. Filtra por *países europeos que estén por debajo de la mediana mundial de PIB per cápita* y selecciona únicamente las variables relevantes.\n",
        "\n",
        "> *Dataset https://data-wizards.s3.amazonaws.com/datasets/dataset_na_who.csv*\n",
        "\n",
        "\n",
        "\n",
        "\n",
        "\n",
        "\n"
      ]
    },
    {
      "cell_type": "code",
      "source": [
        "# importamos las librerías\n",
        "require(dplyr)\n",
        "require(data.table)"
      ],
      "metadata": {
        "id": "1-u7hRZZRKXQ"
      },
      "execution_count": null,
      "outputs": []
    },
    {
      "cell_type": "code",
      "metadata": {
        "id": "0FL0Go3Av8l0"
      },
      "source": [
        "# importar el dataset\n",
        "df_who = fread(\"https://data-wizards.s3.amazonaws.com/datasets/dataset_na_who.csv\")\n",
        "glimpse(df_who)"
      ],
      "execution_count": null,
      "outputs": []
    },
    {
      "cell_type": "code",
      "source": [
        "# creamos un objeto auxiliar para capturar la mediana del PIB mundial\n",
        "median_gdp = median(df_who$`Gross national income per capita (PPP international $)`,na.rm = TRUE)"
      ],
      "metadata": {
        "id": "MYB_rwrHRdhP"
      },
      "execution_count": null,
      "outputs": []
    },
    {
      "cell_type": "code",
      "source": [
        "# creamos campo, filtramos filas, seleccionamos campos, ordenamos filas\n",
        "df_who %>% mutate(\n",
        "  is_below_median_GDP = if_else(\n",
        "    `Gross national income per capita (PPP international $)`< median_gdp,1,0\n",
        "    )\n",
        ") %>% filter(\n",
        "  Continent == 'Europe'\n",
        "  ,is_below_median_GDP==1\n",
        ") %>% select(\n",
        "  Country\n",
        "  ,Continent\n",
        "  ,GDP_per_capita = `Gross national income per capita (PPP international $)`\n",
        "  ,is_below_median_GDP\n",
        ") %>% arrange(\n",
        "  desc(GDP_per_capita)\n",
        ")"
      ],
      "metadata": {
        "id": "6m975RgBSTqX"
      },
      "execution_count": null,
      "outputs": []
    },
    {
      "cell_type": "markdown",
      "metadata": {
        "id": "cndfqZw4ZSwG"
      },
      "source": [
        "### Ejercicio #4\n",
        "Agregar *revenue* total, segín sector productivo. Ordenar de forma descendente por *revenue*. Para las empresas incluidas en el ranking, ¿cuáles son los sectores que generan más facturación?\n",
        "\n",
        "\n",
        "> *Dataset https://data-wizards.s3.amazonaws.com/datasets/fortune1000.csv*\n"
      ]
    },
    {
      "cell_type": "code",
      "source": [
        "# importamos las librerías\n",
        "require(dplyr)\n",
        "require(data.table)"
      ],
      "metadata": {
        "id": "WluqyEz2TxlW"
      },
      "execution_count": null,
      "outputs": []
    },
    {
      "cell_type": "code",
      "metadata": {
        "id": "BnpYaOzZ_jtx"
      },
      "source": [
        "# importar el dataset\n",
        "df_fortune1000 = fread(\"https://data-wizards.s3.amazonaws.com/datasets/fortune1000.csv\")\n",
        "glimpse(df_fortune1000)"
      ],
      "execution_count": null,
      "outputs": []
    },
    {
      "cell_type": "code",
      "source": [
        "# agreagamos facturación, según sector\n",
        "df_fortune1000 %>% group_by(\n",
        "    Sector\n",
        ") %>% summarise(\n",
        "    total_revenue = sum(Revenue)\n",
        ") %>% arrange(\n",
        "    desc(total_revenue)\n",
        ")"
      ],
      "metadata": {
        "id": "K63TA-WWT0xr"
      },
      "execution_count": null,
      "outputs": []
    },
    {
      "cell_type": "markdown",
      "metadata": {
        "id": "1VUN9G4lZbdt"
      },
      "source": [
        "### Ejercicio #5\n",
        "Partiendo del dataset con datos de empleados estatales, agregar la mediana de salario base según departamento. Tener en cuenta únicamente empleados full time.\n",
        "\n",
        "\n",
        "> *Dataset https://data-wizards.s3.amazonaws.com/datasets/employees.csv*\n"
      ]
    },
    {
      "cell_type": "code",
      "source": [
        "# importamos las librerías\n",
        "require(dplyr)\n",
        "require(data.table)"
      ],
      "metadata": {
        "id": "WjE_soimUjjP"
      },
      "execution_count": null,
      "outputs": []
    },
    {
      "cell_type": "code",
      "metadata": {
        "id": "VZAJ-pg_Q5Ur"
      },
      "source": [
        "# importar el dataset\n",
        "df_employees = fread(\"https://data-wizards.s3.amazonaws.com/datasets/employees.csv\")\n",
        "glimpse(df_employees)"
      ],
      "execution_count": null,
      "outputs": []
    },
    {
      "cell_type": "code",
      "source": [
        "# filtamos filas, agrupamos, agregamos datos y ordenamos filas resultantes\n",
        "df_employees %>% filter(\n",
        "  EMPLOYMENT_TYPE == 'Full Time'\n",
        ") %>% group_by(\n",
        "  DEPARTMENT\n",
        ") %>% summarise(\n",
        "  median_salary = median(BASE_SALARY,na.rm = TRUE)\n",
        ") %>% arrange(\n",
        "  desc(median_salary)\n",
        ")"
      ],
      "metadata": {
        "id": "hIDfw7L6UmdL"
      },
      "execution_count": null,
      "outputs": []
    }
  ]
}