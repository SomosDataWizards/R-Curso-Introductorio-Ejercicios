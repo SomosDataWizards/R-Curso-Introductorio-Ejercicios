{
  "nbformat": 4,
  "nbformat_minor": 0,
  "metadata": {
    "colab": {
      "provenance": [],
      "toc_visible": true
    },
    "kernelspec": {
      "name": "ir",
      "display_name": "R"
    }
  },
  "cells": [
    {
      "cell_type": "markdown",
      "source": [
        "# **Introducción a R para Análisis de Datos**\n",
        "## Capítulo 5: Análisis Exploratorio de Datos\n",
        "---\n",
        "Acerca de este notebook\n",
        "* **Autor:** Juan Martin Bellido\n",
        "* **Descripción:** *este notebook incluye las soluciones a los ejercicios del capítulo 5*\n",
        "* **¿Feedback? ¿comentarios?** Por favor compártelo conmigo escribiéndome por [LinkedIn](https://www.linkedin.com/in/jmartinbellido/)\n"
      ],
      "metadata": {
        "id": "pjPZkfoCeSPe"
      }
    },
    {
      "cell_type": "code",
      "source": [
        "# instalamos librerías\n",
        "install.packages(\"data.table\")"
      ],
      "metadata": {
        "id": "-7Tt0khkgWL4"
      },
      "execution_count": null,
      "outputs": []
    },
    {
      "cell_type": "markdown",
      "source": [
        "# Capítulo 5: Ejercicios\n",
        "---"
      ],
      "metadata": {
        "id": "CFj7meeflnIr"
      }
    },
    {
      "cell_type": "markdown",
      "metadata": {
        "id": "UxEAmZcP_pUS"
      },
      "source": [
        "### Ejercicio #1\n",
        "¿Cuántas películas de James Bond ha protagonizado *Sean Connery*? Crear una tabla de frecuencia.\n",
        "\n",
        "> Dataset https://data-wizards.s3.amazonaws.com/datasets/jamesbond.csv"
      ]
    },
    {
      "cell_type": "code",
      "source": [
        "# importamos librerías\n",
        "require(data.table)"
      ],
      "metadata": {
        "id": "2WhbnAFJggZr"
      },
      "execution_count": null,
      "outputs": []
    },
    {
      "cell_type": "code",
      "metadata": {
        "id": "bNL_i2kp_nwl"
      },
      "source": [
        "# importamos dataset\n",
        "df_jamesbond = data.table::fread(\"https://data-wizards.s3.amazonaws.com/datasets/jamesbond.csv\")"
      ],
      "execution_count": null,
      "outputs": []
    },
    {
      "cell_type": "code",
      "metadata": {
        "id": "XoO3RweH_omf",
        "colab": {
          "base_uri": "https://localhost:8080/",
          "height": 104
        },
        "outputId": "74432dae-ad46-49a6-aa27-95c89c3fb329"
      },
      "source": [
        "# creamos tabla de frecuencia\n",
        "table(df_jamesbond$Actor)"
      ],
      "execution_count": null,
      "outputs": [
        {
          "output_type": "display_data",
          "data": {
            "text/plain": [
              "\n",
              "  Daniel Craig    David Niven George Lazenby Pierce Brosnan    Roger Moore \n",
              "             4              1              1              4              7 \n",
              "  Sean Connery Timothy Dalton \n",
              "             7              2 "
            ]
          },
          "metadata": {}
        }
      ]
    },
    {
      "cell_type": "code",
      "source": [
        "# podríamos filtrar para obtener una frecuencia específica\n",
        "table(df_jamesbond$Actor)[\"Sean Connery\"]"
      ],
      "metadata": {
        "colab": {
          "base_uri": "https://localhost:8080/",
          "height": 34
        },
        "id": "2a965ySmbftH",
        "outputId": "31ecb89d-f6b1-4b13-9371-072e24961e08"
      },
      "execution_count": null,
      "outputs": [
        {
          "output_type": "display_data",
          "data": {
            "text/html": [
              "<strong>Sean Connery:</strong> 7"
            ],
            "text/markdown": "**Sean Connery:** 7",
            "text/latex": "\\textbf{Sean Connery:} 7",
            "text/plain": [
              "Sean Connery \n",
              "           7 "
            ]
          },
          "metadata": {}
        }
      ]
    },
    {
      "cell_type": "markdown",
      "metadata": {
        "id": "oWz4HEjWn42v"
      },
      "source": [
        "### Ejercicio #2\n",
        "\n",
        "El dataset debajo incluye datos sobre salarios para empleados públicos en EEUU. Graficar un boxplot para estudiar distribución del salario según raza (\"*race*\"). Incluir únicamente empleados f*ull-time* y las siguientes razas: *Hispanic/latino, White y Black or African American*.\n",
        "\n",
        "> Dataset https://data-wizards.s3.amazonaws.com/datasets/employees.csv"
      ]
    },
    {
      "cell_type": "code",
      "source": [
        "# importamos librerías\n",
        "require(data.table)"
      ],
      "metadata": {
        "id": "4aJho47Kgi46"
      },
      "execution_count": null,
      "outputs": []
    },
    {
      "cell_type": "code",
      "metadata": {
        "id": "rjgt1BQNn0sg",
        "colab": {
          "base_uri": "https://localhost:8080/"
        },
        "outputId": "2447c4e2-17ae-4c51-c05e-99c9c11eb5f6"
      },
      "source": [
        "# importamos dataset\n",
        "df_employees = fread(\"https://data-wizards.s3.amazonaws.com/datasets/employees.csv\")\n",
        "glimpse(df_employees)"
      ],
      "execution_count": null,
      "outputs": [
        {
          "output_type": "stream",
          "name": "stdout",
          "text": [
            "Rows: 2,000\n",
            "Columns: 10\n",
            "$ UNIQUE_ID         \u001b[3m\u001b[90m<int>\u001b[39m\u001b[23m 0, 1, 2, 3, 4, 5, 6, 7, 8, 9, 10, 11, 12, 13, 14, 15…\n",
            "$ POSITION_TITLE    \u001b[3m\u001b[90m<chr>\u001b[39m\u001b[23m \"ASSISTANT DIRECTOR (EX LVL)\", \"LIBRARY ASSISTANT\", …\n",
            "$ DEPARTMENT        \u001b[3m\u001b[90m<chr>\u001b[39m\u001b[23m \"Municipal Courts Department\", \"Library\", \"Houston P…\n",
            "$ BASE_SALARY       \u001b[3m\u001b[90m<dbl>\u001b[39m\u001b[23m 121862, 26125, 45279, 63166, 56347, 66614, 71680, 42…\n",
            "$ RACE              \u001b[3m\u001b[90m<chr>\u001b[39m\u001b[23m \"Hispanic/Latino\", \"Hispanic/Latino\", \"White\", \"Whit…\n",
            "$ EMPLOYMENT_TYPE   \u001b[3m\u001b[90m<chr>\u001b[39m\u001b[23m \"Full Time\", \"Full Time\", \"Full Time\", \"Full Time\", …\n",
            "$ GENDER            \u001b[3m\u001b[90m<chr>\u001b[39m\u001b[23m \"Female\", \"Female\", \"Male\", \"Male\", \"Male\", \"Male\", …\n",
            "$ EMPLOYMENT_STATUS \u001b[3m\u001b[90m<chr>\u001b[39m\u001b[23m \"Active\", \"Active\", \"Active\", \"Active\", \"Active\", \"A…\n",
            "$ HIRE_DATE         \u001b[3m\u001b[90m<IDate>\u001b[39m\u001b[23m 2006-06-12, 2000-07-19, 2015-02-03, 1982-02-08, 19…\n",
            "$ JOB_DATE          \u001b[3m\u001b[90m<IDate>\u001b[39m\u001b[23m 2012-10-13, 2010-09-18, 2015-02-03, 1991-05-25, 19…\n"
          ]
        }
      ]
    },
    {
      "cell_type": "code",
      "source": [
        "# creamos condiciones de filtrado\n",
        "cond_1 = df_employees$RACE %in% c(\"Hispanic/Latino\",\"White\",\"Black or African American\")\n",
        "cond_2 = df_employees$EMPLOYMENT_TYPE == 'Full Time'\n",
        "\n",
        "# generamos un boxplot más complejo, agrupando por variable categórica\n",
        "boxplot(\n",
        "  BASE_SALARY ~ RACE,\n",
        "  data = df_employees[cond_1 & cond_2,],\n",
        "  main = 'Base salary distribution by race'\n",
        ")"
      ],
      "metadata": {
        "colab": {
          "base_uri": "https://localhost:8080/",
          "height": 437
        },
        "id": "lJjNsIokYGAI",
        "outputId": "a79c7333-1828-4011-dd20-467068047b84"
      },
      "execution_count": null,
      "outputs": [
        {
          "output_type": "display_data",
          "data": {
            "text/plain": [
              "Plot with title “Price distribution by car type”"
            ],
            "image/png": "[encoded data removed]"
          },
          "metadata": {
            "image/png": {
              "width": 420,
              "height": 420
            }
          }
        }
      ]
    }
  ]
}