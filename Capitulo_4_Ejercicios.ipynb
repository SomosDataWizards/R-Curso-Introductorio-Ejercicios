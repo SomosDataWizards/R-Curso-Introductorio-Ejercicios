{
  "nbformat": 4,
  "nbformat_minor": 0,
  "metadata": {
    "colab": {
      "provenance": [],
      "toc_visible": true
    },
    "kernelspec": {
      "name": "ir",
      "display_name": "R"
    }
  },
  "cells": [
    {
      "cell_type": "markdown",
      "source": [
        "# **Introducción a R para Análisis de Datos**\n",
        "## Capítulo 4: Limpieza de Datos \n",
        "---\n",
        "Acerca de este notebook\n",
        "* **Autor:** Juan Martin Bellido\n",
        "* **Descripción:** *este notebook incluye las soluciones a los ejercicios del capítulo 4*\n",
        "* **¿Feedback? ¿comentarios?** Por favor compártelo conmigo escribiéndome por [LinkedIn](https://www.linkedin.com/in/jmartinbellido/)\n"
      ],
      "metadata": {
        "id": "pjPZkfoCeSPe"
      }
    },
    {
      "cell_type": "markdown",
      "source": [
        "# Capítulo 4: Ejercicios\n",
        "---"
      ],
      "metadata": {
        "id": "WhPiuWDXpFhb"
      }
    },
    {
      "cell_type": "code",
      "metadata": {
        "id": "wLlxs1m-tpjO",
        "colab": {
          "base_uri": "https://localhost:8080/"
        },
        "outputId": "3ea281f0-5422-4cf1-ee45-a06f208acdff"
      },
      "source": [
        "# instalamos librería \"data.table\" porque Google colab no la incluye por defecto\n",
        "install.packages(\"data.table\")"
      ],
      "execution_count": null,
      "outputs": [
        {
          "output_type": "stream",
          "name": "stderr",
          "text": [
            "Installing package into ‘/usr/local/lib/R/site-library’\n",
            "(as ‘lib’ is unspecified)\n",
            "\n",
            "Installing package into ‘/usr/local/lib/R/site-library’\n",
            "(as ‘lib’ is unspecified)\n",
            "\n",
            "also installing the dependencies ‘Rcpp’, ‘gridExtra’, ‘plyr’, ‘norm’, ‘visdat’, ‘viridis’, ‘UpSetR’\n",
            "\n",
            "\n"
          ]
        }
      ]
    },
    {
      "cell_type": "code",
      "metadata": {
        "id": "TxEwN93qtcWt",
        "colab": {
          "base_uri": "https://localhost:8080/"
        },
        "outputId": "f0ee1ec3-6104-4fd4-d276-3c6c9712d037"
      },
      "source": [
        "# importamos las librerías que utilizaremos\n",
        "require(dplyr)\n",
        "require(data.table)\n",
        "require(naniar)"
      ],
      "execution_count": null,
      "outputs": [
        {
          "output_type": "stream",
          "name": "stderr",
          "text": [
            "Loading required package: naniar\n",
            "\n"
          ]
        }
      ]
    },
    {
      "cell_type": "code",
      "metadata": {
        "id": "-w2HuB9hz5fM"
      },
      "source": [
        "# (opcional) editamos las opciones globales para evitar que R utilice notación científica\n",
        "options(scipen=999)"
      ],
      "execution_count": null,
      "outputs": []
    },
    {
      "cell_type": "markdown",
      "source": [
        "### Ejercicio #1\n",
        "\n",
        "##### EX 1.A Identificar columnas con valores nulos (formalmente declarados) en el dataframe.\n",
        "##### EX 1.B ¿Cuántas películas hay con valores nulos para el campo *director_name*?\n",
        "##### EX 1.C Reemplazar valores nulos en *director_name* por \"unknown\".\n",
        "\n",
        "> Dataset https://data-wizards.s3.amazonaws.com/datasets/movies.csv\n"
      ],
      "metadata": {
        "id": "eu627bx6VTDa"
      }
    },
    {
      "cell_type": "code",
      "source": [
        "# importamos DataFrame\n",
        "df_movies = fread(\"https://data-wizards.s3.amazonaws.com/datasets/movies.csv\")\n",
        "glimpse(df_movies)"
      ],
      "metadata": {
        "colab": {
          "base_uri": "https://localhost:8080/"
        },
        "id": "09zVPdBPVghL",
        "outputId": "f0713825-f956-4151-b6bb-c8b8ca30c939"
      },
      "execution_count": null,
      "outputs": [
        {
          "output_type": "stream",
          "name": "stdout",
          "text": [
            "Rows: 4,916\n",
            "Columns: 28\n",
            "$ color                     \u001b[3m\u001b[90m<chr>\u001b[39m\u001b[23m \"Color\", \"Color\", \"Color\", \"Color\", \"\", \"Col…\n",
            "$ director_name             \u001b[3m\u001b[90m<chr>\u001b[39m\u001b[23m \"James Cameron\", \"Gore Verbinski\", \"Sam Mend…\n",
            "$ num_critic_for_reviews    \u001b[3m\u001b[90m<int>\u001b[39m\u001b[23m 723, 302, 602, 813, NA, 462, 392, 324, 635, …\n",
            "$ duration                  \u001b[3m\u001b[90m<int>\u001b[39m\u001b[23m 178, 169, 148, 164, NA, 132, 156, 100, 141, …\n",
            "$ director_facebook_likes   \u001b[3m\u001b[90m<int>\u001b[39m\u001b[23m 0, 563, 0, 22000, 131, 475, 0, 15, 0, 282, 0…\n",
            "$ actor_3_facebook_likes    \u001b[3m\u001b[90m<int>\u001b[39m\u001b[23m 855, 1000, 161, 23000, NA, 530, 4000, 284, 1…\n",
            "$ actor_2_name              \u001b[3m\u001b[90m<chr>\u001b[39m\u001b[23m \"Joel David Moore\", \"Orlando Bloom\", \"Rory K…\n",
            "$ actor_1_facebook_likes    \u001b[3m\u001b[90m<int>\u001b[39m\u001b[23m 1000, 40000, 11000, 27000, 131, 640, 24000, …\n",
            "$ gross                     \u001b[3m\u001b[90m<dbl>\u001b[39m\u001b[23m 760505847, 309404152, 200074175, 448130642, …\n",
            "$ genres                    \u001b[3m\u001b[90m<chr>\u001b[39m\u001b[23m \"Action|Adventure|Fantasy|Sci-Fi\", \"Action|A…\n",
            "$ actor_1_name              \u001b[3m\u001b[90m<chr>\u001b[39m\u001b[23m \"CCH Pounder\", \"Johnny Depp\", \"Christoph Wal…\n",
            "$ movie_title               \u001b[3m\u001b[90m<chr>\u001b[39m\u001b[23m \"Avatar\", \"Pirates of the Caribbean: At Worl…\n",
            "$ num_voted_users           \u001b[3m\u001b[90m<int>\u001b[39m\u001b[23m 886204, 471220, 275868, 1144337, 8, 212204, …\n",
            "$ cast_total_facebook_likes \u001b[3m\u001b[90m<int>\u001b[39m\u001b[23m 4834, 48350, 11700, 106759, 143, 1873, 46055…\n",
            "$ actor_3_name              \u001b[3m\u001b[90m<chr>\u001b[39m\u001b[23m \"Wes Studi\", \"Jack Davenport\", \"Stephanie Si…\n",
            "$ facenumber_in_poster      \u001b[3m\u001b[90m<int>\u001b[39m\u001b[23m 0, 0, 1, 0, 0, 1, 0, 1, 4, 3, 0, 0, 1, 2, 1,…\n",
            "$ plot_keywords             \u001b[3m\u001b[90m<chr>\u001b[39m\u001b[23m \"avatar|future|marine|native|paraplegic\", \"g…\n",
            "$ movie_imdb_link           \u001b[3m\u001b[90m<chr>\u001b[39m\u001b[23m \"http://www.imdb.com/title/tt0499549/?ref_=f…\n",
            "$ num_user_for_reviews      \u001b[3m\u001b[90m<int>\u001b[39m\u001b[23m 3054, 1238, 994, 2701, NA, 738, 1902, 387, 1…\n",
            "$ language                  \u001b[3m\u001b[90m<chr>\u001b[39m\u001b[23m \"English\", \"English\", \"English\", \"English\", …\n",
            "$ country                   \u001b[3m\u001b[90m<chr>\u001b[39m\u001b[23m \"USA\", \"USA\", \"UK\", \"USA\", \"\", \"USA\", \"USA\",…\n",
            "$ content_rating            \u001b[3m\u001b[90m<chr>\u001b[39m\u001b[23m \"PG-13\", \"PG-13\", \"PG-13\", \"PG-13\", \"\", \"PG-…\n",
            "$ budget                    \u001b[3m\u001b[90m<dbl>\u001b[39m\u001b[23m 237000000, 300000000, 245000000, 250000000, …\n",
            "$ title_year                \u001b[3m\u001b[90m<int>\u001b[39m\u001b[23m 2009, 2007, 2015, 2012, NA, 2012, 2007, 2010…\n",
            "$ actor_2_facebook_likes    \u001b[3m\u001b[90m<int>\u001b[39m\u001b[23m 936, 5000, 393, 23000, 12, 632, 11000, 553, …\n",
            "$ imdb_score                \u001b[3m\u001b[90m<dbl>\u001b[39m\u001b[23m 7.9, 7.1, 6.8, 8.5, 7.1, 6.6, 6.2, 7.8, 7.5,…\n",
            "$ aspect_ratio              \u001b[3m\u001b[90m<dbl>\u001b[39m\u001b[23m 1.78, 2.35, 2.35, 2.35, NA, 2.35, 2.35, 1.85…\n",
            "$ movie_facebook_likes      \u001b[3m\u001b[90m<int>\u001b[39m\u001b[23m 33000, 0, 85000, 164000, 0, 24000, 0, 29000,…\n"
          ]
        }
      ]
    },
    {
      "cell_type": "code",
      "source": [
        "# campos formalmente declarados como nulos\n",
        "apply(is.na(df_movies),2,sum)"
      ],
      "metadata": {
        "colab": {
          "base_uri": "https://localhost:8080/",
          "height": 104
        },
        "id": "mPY5h8FFVs9S",
        "outputId": "a347a5dc-142b-4024-cf99-67d656c8d239"
      },
      "execution_count": null,
      "outputs": [
        {
          "output_type": "display_data",
          "data": {
            "text/html": [
              "<style>\n",
              ".dl-inline {width: auto; margin:0; padding: 0}\n",
              ".dl-inline>dt, .dl-inline>dd {float: none; width: auto; display: inline-block}\n",
              ".dl-inline>dt::after {content: \":\\0020\"; padding-right: .5ex}\n",
              ".dl-inline>dt:not(:first-of-type) {padding-left: .5ex}\n",
              "</style><dl class=dl-inline><dt>color</dt><dd>0</dd><dt>director_name</dt><dd>0</dd><dt>num_critic_for_reviews</dt><dd>49</dd><dt>duration</dt><dd>15</dd><dt>director_facebook_likes</dt><dd>102</dd><dt>actor_3_facebook_likes</dt><dd>23</dd><dt>actor_2_name</dt><dd>0</dd><dt>actor_1_facebook_likes</dt><dd>7</dd><dt>gross</dt><dd>862</dd><dt>genres</dt><dd>0</dd><dt>actor_1_name</dt><dd>0</dd><dt>movie_title</dt><dd>0</dd><dt>num_voted_users</dt><dd>0</dd><dt>cast_total_facebook_likes</dt><dd>0</dd><dt>actor_3_name</dt><dd>0</dd><dt>facenumber_in_poster</dt><dd>13</dd><dt>plot_keywords</dt><dd>0</dd><dt>movie_imdb_link</dt><dd>0</dd><dt>num_user_for_reviews</dt><dd>21</dd><dt>language</dt><dd>0</dd><dt>country</dt><dd>0</dd><dt>content_rating</dt><dd>0</dd><dt>budget</dt><dd>484</dd><dt>title_year</dt><dd>106</dd><dt>actor_2_facebook_likes</dt><dd>13</dd><dt>imdb_score</dt><dd>0</dd><dt>aspect_ratio</dt><dd>326</dd><dt>movie_facebook_likes</dt><dd>0</dd></dl>\n"
            ],
            "text/markdown": "color\n:   0director_name\n:   0num_critic_for_reviews\n:   49duration\n:   15director_facebook_likes\n:   102actor_3_facebook_likes\n:   23actor_2_name\n:   0actor_1_facebook_likes\n:   7gross\n:   862genres\n:   0actor_1_name\n:   0movie_title\n:   0num_voted_users\n:   0cast_total_facebook_likes\n:   0actor_3_name\n:   0facenumber_in_poster\n:   13plot_keywords\n:   0movie_imdb_link\n:   0num_user_for_reviews\n:   21language\n:   0country\n:   0content_rating\n:   0budget\n:   484title_year\n:   106actor_2_facebook_likes\n:   13imdb_score\n:   0aspect_ratio\n:   326movie_facebook_likes\n:   0\n\n",
            "text/latex": "\\begin{description*}\n\\item[color] 0\n\\item[director\\textbackslash{}\\_name] 0\n\\item[num\\textbackslash{}\\_critic\\textbackslash{}\\_for\\textbackslash{}\\_reviews] 49\n\\item[duration] 15\n\\item[director\\textbackslash{}\\_facebook\\textbackslash{}\\_likes] 102\n\\item[actor\\textbackslash{}\\_3\\textbackslash{}\\_facebook\\textbackslash{}\\_likes] 23\n\\item[actor\\textbackslash{}\\_2\\textbackslash{}\\_name] 0\n\\item[actor\\textbackslash{}\\_1\\textbackslash{}\\_facebook\\textbackslash{}\\_likes] 7\n\\item[gross] 862\n\\item[genres] 0\n\\item[actor\\textbackslash{}\\_1\\textbackslash{}\\_name] 0\n\\item[movie\\textbackslash{}\\_title] 0\n\\item[num\\textbackslash{}\\_voted\\textbackslash{}\\_users] 0\n\\item[cast\\textbackslash{}\\_total\\textbackslash{}\\_facebook\\textbackslash{}\\_likes] 0\n\\item[actor\\textbackslash{}\\_3\\textbackslash{}\\_name] 0\n\\item[facenumber\\textbackslash{}\\_in\\textbackslash{}\\_poster] 13\n\\item[plot\\textbackslash{}\\_keywords] 0\n\\item[movie\\textbackslash{}\\_imdb\\textbackslash{}\\_link] 0\n\\item[num\\textbackslash{}\\_user\\textbackslash{}\\_for\\textbackslash{}\\_reviews] 21\n\\item[language] 0\n\\item[country] 0\n\\item[content\\textbackslash{}\\_rating] 0\n\\item[budget] 484\n\\item[title\\textbackslash{}\\_year] 106\n\\item[actor\\textbackslash{}\\_2\\textbackslash{}\\_facebook\\textbackslash{}\\_likes] 13\n\\item[imdb\\textbackslash{}\\_score] 0\n\\item[aspect\\textbackslash{}\\_ratio] 326\n\\item[movie\\textbackslash{}\\_facebook\\textbackslash{}\\_likes] 0\n\\end{description*}\n",
            "text/plain": [
              "                    color             director_name    num_critic_for_reviews \n",
              "                        0                         0                        49 \n",
              "                 duration   director_facebook_likes    actor_3_facebook_likes \n",
              "                       15                       102                        23 \n",
              "             actor_2_name    actor_1_facebook_likes                     gross \n",
              "                        0                         7                       862 \n",
              "                   genres              actor_1_name               movie_title \n",
              "                        0                         0                         0 \n",
              "          num_voted_users cast_total_facebook_likes              actor_3_name \n",
              "                        0                         0                         0 \n",
              "     facenumber_in_poster             plot_keywords           movie_imdb_link \n",
              "                       13                         0                         0 \n",
              "     num_user_for_reviews                  language                   country \n",
              "                       21                         0                         0 \n",
              "           content_rating                    budget                title_year \n",
              "                        0                       484                       106 \n",
              "   actor_2_facebook_likes                imdb_score              aspect_ratio \n",
              "                       13                         0                       326 \n",
              "     movie_facebook_likes \n",
              "                        0 "
            ]
          },
          "metadata": {}
        }
      ]
    },
    {
      "cell_type": "code",
      "source": [
        "# para evaluar el campo \"director_name\", convertimos valores vacíos (\"\") en NA\n",
        "df_movies$director_name = ifelse(df_movies$director_name == '', NA, df_movies$director_name)"
      ],
      "metadata": {
        "id": "VNczZ2IEcS5E"
      },
      "execution_count": null,
      "outputs": []
    },
    {
      "cell_type": "code",
      "source": [
        "# cantidad de valores nulos en campo \"director_name\"\n",
        "df_movies$director_name %>% is.na() %>% sum()"
      ],
      "metadata": {
        "colab": {
          "base_uri": "https://localhost:8080/",
          "height": 34
        },
        "id": "QW0R9XrgdvNE",
        "outputId": "3531e25e-f118-4282-a0c9-b6aef8c85a5e"
      },
      "execution_count": null,
      "outputs": [
        {
          "output_type": "display_data",
          "data": {
            "text/html": [
              "102"
            ],
            "text/markdown": "102",
            "text/latex": "102",
            "text/plain": [
              "[1] 102"
            ]
          },
          "metadata": {}
        }
      ]
    },
    {
      "cell_type": "code",
      "source": [
        "# reemplazamos valores nulos por \"unknown\"\n",
        "df_movies$director_name = ifelse(is.na(df_movies$director_name), 'unknown', df_movies$director_name)"
      ],
      "metadata": {
        "id": "ygOo9PzudvPj"
      },
      "execution_count": null,
      "outputs": []
    },
    {
      "cell_type": "code",
      "source": [
        "# volvemos a comprobar cantidad de valores nulos en campo \"director_name\"\n",
        "df_movies$director_name %>% is.na() %>% sum()"
      ],
      "metadata": {
        "colab": {
          "base_uri": "https://localhost:8080/",
          "height": 34
        },
        "id": "PBo95Pskin6K",
        "outputId": "7ecd1be2-cc13-4e10-af71-88945dcc98c3"
      },
      "execution_count": null,
      "outputs": [
        {
          "output_type": "display_data",
          "data": {
            "text/html": [
              "0"
            ],
            "text/markdown": "0",
            "text/latex": "0",
            "text/plain": [
              "[1] 0"
            ]
          },
          "metadata": {}
        }
      ]
    },
    {
      "cell_type": "markdown",
      "source": [
        "### Ejercicio #2\n",
        "\n",
        "Detectar empresas que sean outliers en cantidad de empleados.\n",
        "\n",
        "##### EX 2.A Utilizando distribución normal\n",
        "##### EX 2.B Utilizando el método del rango intercuartílico\n",
        "\n",
        "> Dataset https://data-wizards.s3.amazonaws.com/datasets/fortune1000.csv"
      ],
      "metadata": {
        "id": "TklU9lBzVTFs"
      }
    },
    {
      "cell_type": "code",
      "source": [
        "# importamos DataFrame\n",
        "df_fortune = fread(\"https://data-wizards.s3.amazonaws.com/datasets/fortune1000.csv\")\n",
        "glimpse(df_fortune)"
      ],
      "metadata": {
        "colab": {
          "base_uri": "https://localhost:8080/"
        },
        "id": "zXF9bqlqVg6K",
        "outputId": "acdf5b5b-5d57-49ea-9c3d-c4130e738c88"
      },
      "execution_count": null,
      "outputs": [
        {
          "output_type": "stream",
          "name": "stdout",
          "text": [
            "Rows: 1,000\n",
            "Columns: 8\n",
            "$ Rank      \u001b[3m\u001b[90m<int>\u001b[39m\u001b[23m 1, 2, 3, 4, 5, 6, 7, 8, 9, 10, 11, 12, 13, 14, 15, 16, 17, 1…\n",
            "$ Company   \u001b[3m\u001b[90m<chr>\u001b[39m\u001b[23m \"Walmart\", \"Exxon Mobil\", \"Apple\", \"Berkshire Hathaway\", \"Mc…\n",
            "$ Sector    \u001b[3m\u001b[90m<chr>\u001b[39m\u001b[23m \"Retailing\", \"Energy\", \"Technology\", \"Financials\", \"Health C…\n",
            "$ Industry  \u001b[3m\u001b[90m<chr>\u001b[39m\u001b[23m \"General Merchandisers\", \"Petroleum Refining\", \"Computers, O…\n",
            "$ Location  \u001b[3m\u001b[90m<chr>\u001b[39m\u001b[23m \"Bentonville, AR\", \"Irving, TX\", \"Cupertino, CA\", \"Omaha, NE…\n",
            "$ Revenue   \u001b[3m\u001b[90m<int>\u001b[39m\u001b[23m 482130, 246204, 233715, 210821, 181241, 157107, 153290, 1523…\n",
            "$ Profits   \u001b[3m\u001b[90m<int>\u001b[39m\u001b[23m 14694, 16150, 53394, 24083, 1476, 5813, 5237, 9687, 7373, 13…\n",
            "$ Employees \u001b[3m\u001b[90m<int>\u001b[39m\u001b[23m 2300000, 75600, 110000, 331000, 70400, 200000, 199000, 21500…\n"
          ]
        }
      ]
    },
    {
      "cell_type": "markdown",
      "source": [
        "Utilizando distribución normal."
      ],
      "metadata": {
        "id": "D8bXCuvjnTPQ"
      }
    },
    {
      "cell_type": "code",
      "source": [
        "# calculamos la media y la desviación estándar\n",
        "mean <- mean(df_fortune$Employees)\n",
        "sd <- sd(df_fortune$Employees)"
      ],
      "metadata": {
        "id": "a2JkUJf_mxRJ"
      },
      "execution_count": null,
      "outputs": []
    },
    {
      "cell_type": "code",
      "source": [
        "# convertimos campo a z y lo almacenamos en una nueva columna\n",
        "df_fortune$z_employees = (df_fortune$Employees - mean) / sd"
      ],
      "metadata": {
        "id": "JsIqqYZAmxUO"
      },
      "execution_count": null,
      "outputs": []
    },
    {
      "cell_type": "code",
      "source": [
        "# visualizarmos outliers\n",
        "df_fortune %>% filter(\n",
        "  abs(z_employees) > 3 \n",
        ")"
      ],
      "metadata": {
        "colab": {
          "base_uri": "https://localhost:8080/",
          "height": 512
        },
        "id": "9Uu_BDw1mxVr",
        "outputId": "b30e7f76-55ae-4589-e76a-70498b5513a9"
      },
      "execution_count": null,
      "outputs": [
        {
          "output_type": "display_data",
          "data": {
            "text/html": [
              "<table class=\"dataframe\">\n",
              "<caption>A data.table: 11 × 9</caption>\n",
              "<thead>\n",
              "\t<tr><th scope=col>Rank</th><th scope=col>Company</th><th scope=col>Sector</th><th scope=col>Industry</th><th scope=col>Location</th><th scope=col>Revenue</th><th scope=col>Profits</th><th scope=col>Employees</th><th scope=col>z_employees</th></tr>\n",
              "\t<tr><th scope=col>&lt;int&gt;</th><th scope=col>&lt;chr&gt;</th><th scope=col>&lt;chr&gt;</th><th scope=col>&lt;chr&gt;</th><th scope=col>&lt;chr&gt;</th><th scope=col>&lt;int&gt;</th><th scope=col>&lt;int&gt;</th><th scope=col>&lt;int&gt;</th><th scope=col>&lt;dbl&gt;</th></tr>\n",
              "</thead>\n",
              "<tbody>\n",
              "\t<tr><td>  1</td><td>Walmart           </td><td>Retailing                   </td><td>General Merchandisers                   </td><td>Bentonville, AR</td><td>482130</td><td>14694</td><td>2300000</td><td>25.069445</td></tr>\n",
              "\t<tr><td>  4</td><td>Berkshire Hathaway</td><td>Financials                  </td><td>Insurance: Property and Casualty (Stock)</td><td>Omaha, NE      </td><td>210821</td><td>24083</td><td> 331000</td><td> 3.295141</td></tr>\n",
              "\t<tr><td> 11</td><td>General Electric  </td><td>Industrials                 </td><td>Industrial Machinery                    </td><td>Fairfield, CT  </td><td>140389</td><td>-6126</td><td> 333000</td><td> 3.317258</td></tr>\n",
              "\t<tr><td> 17</td><td>Kroger            </td><td>Food and Drug Stores        </td><td>Food and Drug Stores                    </td><td>Cincinnati, OH </td><td>109830</td><td> 2039</td><td> 431000</td><td> 4.400997</td></tr>\n",
              "\t<tr><td> 28</td><td>Home Depot        </td><td>Retailing                   </td><td>Specialty Retailers: Other              </td><td>Atlanta, GA    </td><td> 88519</td><td> 7009</td><td> 385000</td><td> 3.892303</td></tr>\n",
              "\t<tr><td> 31</td><td>IBM               </td><td>Technology                  </td><td>Information Technology Services         </td><td>Armonk, NY     </td><td> 82461</td><td>13190</td><td> 411798</td><td> 4.188651</td></tr>\n",
              "\t<tr><td> 38</td><td>Target            </td><td>Retailing                   </td><td>General Merchandisers                   </td><td>Minneapolis, MN</td><td> 73785</td><td> 3363</td><td> 341000</td><td> 3.405727</td></tr>\n",
              "\t<tr><td> 48</td><td>UPS               </td><td>Transportation              </td><td>Mail, Package, and Freight Delivery     </td><td>Atlanta, GA    </td><td> 58363</td><td> 4844</td><td> 341240</td><td> 3.408381</td></tr>\n",
              "\t<tr><td> 58</td><td>FedEx             </td><td>Transportation              </td><td>Mail, Package, and Freight Delivery     </td><td>Memphis, TN    </td><td> 47453</td><td> 1050</td><td> 323035</td><td> 3.207060</td></tr>\n",
              "\t<tr><td>109</td><td><span style=white-space:pre-wrap>McDonald’s        </span></td><td>Hotels, Resturants &amp; Leisure</td><td><span style=white-space:pre-wrap>Food Services                           </span></td><td><span style=white-space:pre-wrap>Oak Brook, IL  </span></td><td> 25413</td><td> 4529</td><td> 420000</td><td> 4.279353</td></tr>\n",
              "\t<tr><td>218</td><td><span style=white-space:pre-wrap>Yum Brands        </span></td><td>Hotels, Resturants &amp; Leisure</td><td><span style=white-space:pre-wrap>Food Services                           </span></td><td>Louisville, KY </td><td> 13105</td><td> 1293</td><td> 505000</td><td> 5.219330</td></tr>\n",
              "</tbody>\n",
              "</table>\n"
            ],
            "text/markdown": "\nA data.table: 11 × 9\n\n| Rank &lt;int&gt; | Company &lt;chr&gt; | Sector &lt;chr&gt; | Industry &lt;chr&gt; | Location &lt;chr&gt; | Revenue &lt;int&gt; | Profits &lt;int&gt; | Employees &lt;int&gt; | z_employees &lt;dbl&gt; |\n|---|---|---|---|---|---|---|---|---|\n|   1 | Walmart            | Retailing                    | General Merchandisers                    | Bentonville, AR | 482130 | 14694 | 2300000 | 25.069445 |\n|   4 | Berkshire Hathaway | Financials                   | Insurance: Property and Casualty (Stock) | Omaha, NE       | 210821 | 24083 |  331000 |  3.295141 |\n|  11 | General Electric   | Industrials                  | Industrial Machinery                     | Fairfield, CT   | 140389 | -6126 |  333000 |  3.317258 |\n|  17 | Kroger             | Food and Drug Stores         | Food and Drug Stores                     | Cincinnati, OH  | 109830 |  2039 |  431000 |  4.400997 |\n|  28 | Home Depot         | Retailing                    | Specialty Retailers: Other               | Atlanta, GA     |  88519 |  7009 |  385000 |  3.892303 |\n|  31 | IBM                | Technology                   | Information Technology Services          | Armonk, NY      |  82461 | 13190 |  411798 |  4.188651 |\n|  38 | Target             | Retailing                    | General Merchandisers                    | Minneapolis, MN |  73785 |  3363 |  341000 |  3.405727 |\n|  48 | UPS                | Transportation               | Mail, Package, and Freight Delivery      | Atlanta, GA     |  58363 |  4844 |  341240 |  3.408381 |\n|  58 | FedEx              | Transportation               | Mail, Package, and Freight Delivery      | Memphis, TN     |  47453 |  1050 |  323035 |  3.207060 |\n| 109 | McDonald’s         | Hotels, Resturants &amp; Leisure | Food Services                            | Oak Brook, IL   |  25413 |  4529 |  420000 |  4.279353 |\n| 218 | Yum Brands         | Hotels, Resturants &amp; Leisure | Food Services                            | Louisville, KY  |  13105 |  1293 |  505000 |  5.219330 |\n\n",
            "text/latex": "A data.table: 11 × 9\n\\begin{tabular}{lllllllll}\n Rank & Company & Sector & Industry & Location & Revenue & Profits & Employees & z\\_employees\\\\\n <int> & <chr> & <chr> & <chr> & <chr> & <int> & <int> & <int> & <dbl>\\\\\n\\hline\n\t   1 & Walmart            & Retailing                    & General Merchandisers                    & Bentonville, AR & 482130 & 14694 & 2300000 & 25.069445\\\\\n\t   4 & Berkshire Hathaway & Financials                   & Insurance: Property and Casualty (Stock) & Omaha, NE       & 210821 & 24083 &  331000 &  3.295141\\\\\n\t  11 & General Electric   & Industrials                  & Industrial Machinery                     & Fairfield, CT   & 140389 & -6126 &  333000 &  3.317258\\\\\n\t  17 & Kroger             & Food and Drug Stores         & Food and Drug Stores                     & Cincinnati, OH  & 109830 &  2039 &  431000 &  4.400997\\\\\n\t  28 & Home Depot         & Retailing                    & Specialty Retailers: Other               & Atlanta, GA     &  88519 &  7009 &  385000 &  3.892303\\\\\n\t  31 & IBM                & Technology                   & Information Technology Services          & Armonk, NY      &  82461 & 13190 &  411798 &  4.188651\\\\\n\t  38 & Target             & Retailing                    & General Merchandisers                    & Minneapolis, MN &  73785 &  3363 &  341000 &  3.405727\\\\\n\t  48 & UPS                & Transportation               & Mail, Package, and Freight Delivery      & Atlanta, GA     &  58363 &  4844 &  341240 &  3.408381\\\\\n\t  58 & FedEx              & Transportation               & Mail, Package, and Freight Delivery      & Memphis, TN     &  47453 &  1050 &  323035 &  3.207060\\\\\n\t 109 & McDonald’s         & Hotels, Resturants \\& Leisure & Food Services                            & Oak Brook, IL   &  25413 &  4529 &  420000 &  4.279353\\\\\n\t 218 & Yum Brands         & Hotels, Resturants \\& Leisure & Food Services                            & Louisville, KY  &  13105 &  1293 &  505000 &  5.219330\\\\\n\\end{tabular}\n",
            "text/plain": [
              "   Rank Company            Sector                      \n",
              "1    1  Walmart            Retailing                   \n",
              "2    4  Berkshire Hathaway Financials                  \n",
              "3   11  General Electric   Industrials                 \n",
              "4   17  Kroger             Food and Drug Stores        \n",
              "5   28  Home Depot         Retailing                   \n",
              "6   31  IBM                Technology                  \n",
              "7   38  Target             Retailing                   \n",
              "8   48  UPS                Transportation              \n",
              "9   58  FedEx              Transportation              \n",
              "10 109  McDonald’s         Hotels, Resturants & Leisure\n",
              "11 218  Yum Brands         Hotels, Resturants & Leisure\n",
              "   Industry                                 Location        Revenue Profits\n",
              "1  General Merchandisers                    Bentonville, AR 482130  14694  \n",
              "2  Insurance: Property and Casualty (Stock) Omaha, NE       210821  24083  \n",
              "3  Industrial Machinery                     Fairfield, CT   140389  -6126  \n",
              "4  Food and Drug Stores                     Cincinnati, OH  109830   2039  \n",
              "5  Specialty Retailers: Other               Atlanta, GA      88519   7009  \n",
              "6  Information Technology Services          Armonk, NY       82461  13190  \n",
              "7  General Merchandisers                    Minneapolis, MN  73785   3363  \n",
              "8  Mail, Package, and Freight Delivery      Atlanta, GA      58363   4844  \n",
              "9  Mail, Package, and Freight Delivery      Memphis, TN      47453   1050  \n",
              "10 Food Services                            Oak Brook, IL    25413   4529  \n",
              "11 Food Services                            Louisville, KY   13105   1293  \n",
              "   Employees z_employees\n",
              "1  2300000   25.069445  \n",
              "2   331000    3.295141  \n",
              "3   333000    3.317258  \n",
              "4   431000    4.400997  \n",
              "5   385000    3.892303  \n",
              "6   411798    4.188651  \n",
              "7   341000    3.405727  \n",
              "8   341240    3.408381  \n",
              "9   323035    3.207060  \n",
              "10  420000    4.279353  \n",
              "11  505000    5.219330  "
            ]
          },
          "metadata": {}
        }
      ]
    },
    {
      "cell_type": "markdown",
      "source": [
        "Utilizando método del rango intercuartílico."
      ],
      "metadata": {
        "id": "xOuBbW7Vn1ef"
      }
    },
    {
      "cell_type": "code",
      "source": [
        "# calculamos el rango intercuartilico (IQR) como la diferencia entre el percentil 75 y el 25\n",
        "IQR <- quantile(df_fortune$Employees, 0.75) - quantile(df_fortune$Employees, 0.25)"
      ],
      "metadata": {
        "id": "ZGBBwZ_bn2FB"
      },
      "execution_count": null,
      "outputs": []
    },
    {
      "cell_type": "code",
      "source": [
        "# calculamos los límites inferior y superior\n",
        "lower_limit <- quantile(df_fortune$Employees, 0.25) - 1.5 * IQR\n",
        "upper_limit <- quantile(df_fortune$Employees, 0.75) + 1.5 * IQR"
      ],
      "metadata": {
        "id": "M5BIG-FPn2Hg"
      },
      "execution_count": null,
      "outputs": []
    },
    {
      "cell_type": "code",
      "source": [
        "# filtramos observaciones que se encuentren por fuera de estos límites\n",
        "df_fortune %>% filter(\n",
        "  Employees < lower_limit | Employees > upper_limit\n",
        ")"
      ],
      "metadata": {
        "colab": {
          "base_uri": "https://localhost:8080/",
          "height": 1000
        },
        "id": "UvtTCwv_n2Jl",
        "outputId": "310097fa-cde8-4e42-f4a7-a2c21c1005c0"
      },
      "execution_count": null,
      "outputs": [
        {
          "output_type": "display_data",
          "data": {
            "text/html": [
              "<table class=\"dataframe\">\n",
              "<caption>A data.table: 120 × 9</caption>\n",
              "<thead>\n",
              "\t<tr><th scope=col>Rank</th><th scope=col>Company</th><th scope=col>Sector</th><th scope=col>Industry</th><th scope=col>Location</th><th scope=col>Revenue</th><th scope=col>Profits</th><th scope=col>Employees</th><th scope=col>z_employees</th></tr>\n",
              "\t<tr><th scope=col>&lt;int&gt;</th><th scope=col>&lt;chr&gt;</th><th scope=col>&lt;chr&gt;</th><th scope=col>&lt;chr&gt;</th><th scope=col>&lt;chr&gt;</th><th scope=col>&lt;int&gt;</th><th scope=col>&lt;int&gt;</th><th scope=col>&lt;int&gt;</th><th scope=col>&lt;dbl&gt;</th></tr>\n",
              "</thead>\n",
              "<tbody>\n",
              "\t<tr><td> 1</td><td>Walmart                  </td><td>Retailing             </td><td>General Merchandisers                    </td><td>Bentonville, AR  </td><td>482130</td><td>14694</td><td>2300000</td><td>25.0694448</td></tr>\n",
              "\t<tr><td> 2</td><td>Exxon Mobil              </td><td>Energy                </td><td>Petroleum Refining                       </td><td>Irving, TX       </td><td>246204</td><td>16150</td><td>  75600</td><td> 0.4707850</td></tr>\n",
              "\t<tr><td> 3</td><td>Apple                    </td><td>Technology            </td><td>Computers, Office Equipment              </td><td>Cupertino, CA    </td><td>233715</td><td>53394</td><td> 110000</td><td> 0.8511994</td></tr>\n",
              "\t<tr><td> 4</td><td>Berkshire Hathaway       </td><td>Financials            </td><td>Insurance: Property and Casualty (Stock) </td><td>Omaha, NE        </td><td>210821</td><td>24083</td><td> 331000</td><td> 3.2951411</td></tr>\n",
              "\t<tr><td> 5</td><td>McKesson                 </td><td>Health Care           </td><td>Wholesalers: Health Care                 </td><td>San Francisco, CA</td><td>181241</td><td> 1476</td><td>  70400</td><td> 0.4132805</td></tr>\n",
              "\t<tr><td> 6</td><td>UnitedHealth Group       </td><td>Health Care           </td><td>Health Care: Insurance and Managed Care  </td><td>Minnetonka, MN   </td><td>157107</td><td> 5813</td><td> 200000</td><td> 1.8464698</td></tr>\n",
              "\t<tr><td> 7</td><td>CVS Health               </td><td>Food and Drug Stores  </td><td>Food and Drug Stores                     </td><td>Woonsocket, RI   </td><td>153290</td><td> 5237</td><td> 199000</td><td> 1.8354112</td></tr>\n",
              "\t<tr><td> 8</td><td><span style=white-space:pre-wrap>General Motors           </span></td><td>Motor Vehicles &amp; Parts</td><td><span style=white-space:pre-wrap>Motor Vehicles and Parts                 </span></td><td><span style=white-space:pre-wrap>Detroit, MI      </span></td><td>152356</td><td> 9687</td><td> 215000</td><td> 2.0123482</td></tr>\n",
              "\t<tr><td> 9</td><td><span style=white-space:pre-wrap>Ford Motor               </span></td><td>Motor Vehicles &amp; Parts</td><td><span style=white-space:pre-wrap>Motor Vehicles and Parts                 </span></td><td><span style=white-space:pre-wrap>Dearborn, MI     </span></td><td>149558</td><td> 7373</td><td> 199000</td><td> 1.8354112</td></tr>\n",
              "\t<tr><td>10</td><td><span style=white-space:pre-wrap>AT&amp;T                     </span></td><td><span style=white-space:pre-wrap>Telecommunications    </span></td><td><span style=white-space:pre-wrap>Telecommunications                       </span></td><td><span style=white-space:pre-wrap>Dallas, TX       </span></td><td>146801</td><td>13345</td><td> 281450</td><td> 2.7471894</td></tr>\n",
              "\t<tr><td>11</td><td>General Electric         </td><td>Industrials           </td><td>Industrial Machinery                     </td><td>Fairfield, CT    </td><td>140389</td><td>-6126</td><td> 333000</td><td> 3.3172582</td></tr>\n",
              "\t<tr><td>13</td><td>Verizon                  </td><td>Telecommunications    </td><td>Telecommunications                       </td><td>New York, NY     </td><td>131620</td><td>17879</td><td> 177700</td><td> 1.5998639</td></tr>\n",
              "\t<tr><td>14</td><td>Chevron                  </td><td>Energy                </td><td>Petroleum Refining                       </td><td>San Ramon, CA    </td><td>131118</td><td> 4587</td><td>  61500</td><td> 0.3148593</td></tr>\n",
              "\t<tr><td>15</td><td>Costco                   </td><td>Retailing             </td><td>Specialty Retailers: Other               </td><td>Issaquah, WA     </td><td>116199</td><td> 2377</td><td> 161000</td><td> 1.4151860</td></tr>\n",
              "\t<tr><td>17</td><td>Kroger                   </td><td>Food and Drug Stores  </td><td>Food and Drug Stores                     </td><td>Cincinnati, OH   </td><td>109830</td><td> 2039</td><td> 431000</td><td> 4.4009970</td></tr>\n",
              "\t<tr><td>18</td><td>Amazon.com               </td><td>Technology            </td><td>Internet Services and Retailing          </td><td>Seattle, WA      </td><td>107006</td><td>  596</td><td> 230800</td><td> 2.1870734</td></tr>\n",
              "\t<tr><td>19</td><td>Walgreens Boots Alliance </td><td>Food and Drug Stores  </td><td>Food and Drug Stores                     </td><td>Deerfield, IL    </td><td>103444</td><td> 4220</td><td> 302500</td><td> 2.9799721</td></tr>\n",
              "\t<tr><td>20</td><td>HP                       </td><td>Technology            </td><td>Computers, Office Equipment              </td><td>Palo Alto, CA    </td><td>103355</td><td> 4554</td><td> 287000</td><td> 2.8085645</td></tr>\n",
              "\t<tr><td>23</td><td>J.P. Morgan Chase        </td><td>Financials            </td><td>Commercial Banks                         </td><td>New York, NY     </td><td>101006</td><td>24442</td><td> 234598</td><td> 2.2290738</td></tr>\n",
              "\t<tr><td>24</td><td><span style=white-space:pre-wrap>Boeing                   </span></td><td><span style=white-space:pre-wrap>Aerospace &amp; Defense   </span></td><td><span style=white-space:pre-wrap>Aerospace and Defense                    </span></td><td><span style=white-space:pre-wrap>Chicago, IL      </span></td><td> 96114</td><td> 5176</td><td> 161400</td><td> 1.4196094</td></tr>\n",
              "\t<tr><td>25</td><td>Microsoft                </td><td>Technology            </td><td>Computer Software                        </td><td>Redmond, WA      </td><td> 93580</td><td>12193</td><td> 118000</td><td> 0.9396679</td></tr>\n",
              "\t<tr><td>26</td><td>Bank of America Corp.    </td><td>Financials            </td><td>Commercial Banks                         </td><td>Charlotte, NC    </td><td> 93056</td><td>15888</td><td> 213280</td><td> 1.9933274</td></tr>\n",
              "\t<tr><td>27</td><td>Wells Fargo              </td><td>Financials            </td><td>Commercial Banks                         </td><td>San Francisco, CA</td><td> 90033</td><td>22894</td><td> 264700</td><td> 2.5619586</td></tr>\n",
              "\t<tr><td>28</td><td>Home Depot               </td><td>Retailing             </td><td>Specialty Retailers: Other               </td><td>Atlanta, GA      </td><td> 88519</td><td> 7009</td><td> 385000</td><td> 3.8923033</td></tr>\n",
              "\t<tr><td>29</td><td>Citigroup                </td><td>Financials            </td><td>Commercial Banks                         </td><td>New York, NY     </td><td> 88275</td><td>17242</td><td> 231000</td><td> 2.1892851</td></tr>\n",
              "\t<tr><td>31</td><td>IBM                      </td><td>Technology            </td><td>Information Technology Services          </td><td>Armonk, NY       </td><td> 82461</td><td>13190</td><td> 411798</td><td> 4.1886506</td></tr>\n",
              "\t<tr><td>34</td><td><span style=white-space:pre-wrap>Procter &amp; Gamble         </span></td><td><span style=white-space:pre-wrap>Household Products    </span></td><td><span style=white-space:pre-wrap>Household and Personal Products          </span></td><td><span style=white-space:pre-wrap>Cincinnati, OH   </span></td><td> 78756</td><td> 7036</td><td> 110000</td><td> 0.8511994</td></tr>\n",
              "\t<tr><td>35</td><td>State Farm Insurance Cos.</td><td>Financials            </td><td>Insurance: Property and Casualty (Mutual)</td><td>Bloomington, IL  </td><td> 75697</td><td> 6229</td><td>  70425</td><td> 0.4135569</td></tr>\n",
              "\t<tr><td>36</td><td>Alphabet                 </td><td>Technology            </td><td>Internet Services and Retailing          </td><td>Mountain View, CA</td><td> 74989</td><td>16348</td><td>  61814</td><td> 0.3183317</td></tr>\n",
              "\t<tr><td>37</td><td>Comcast                  </td><td>Telecommunications    </td><td>Telecommunications                       </td><td>Philadelphia, PA </td><td> 74510</td><td> 8163</td><td> 153000</td><td> 1.3267175</td></tr>\n",
              "\t<tr><td>⋮</td><td>⋮</td><td>⋮</td><td>⋮</td><td>⋮</td><td>⋮</td><td>⋮</td><td>⋮</td><td>⋮</td></tr>\n",
              "\t<tr><td>186</td><td>Omnicom Group                   </td><td>Business Services           </td><td>Advertising, marketing                       </td><td>New York, NY       </td><td>15134</td><td>1094</td><td> 74900</td><td>0.4630440</td></tr>\n",
              "\t<tr><td>194</td><td>Western Digital                 </td><td>Technology                  </td><td>Computer Peripherals                         </td><td>Irvine, CA         </td><td>14572</td><td>1465</td><td> 76449</td><td>0.4801737</td></tr>\n",
              "\t<tr><td>195</td><td><span style=white-space:pre-wrap>Marriott International          </span></td><td>Hotels, Resturants &amp; Leisure</td><td><span style=white-space:pre-wrap>Hotels, Casinos, Resorts                     </span></td><td><span style=white-space:pre-wrap>Bethesda, MD       </span></td><td>14486</td><td> 859</td><td>127500</td><td>1.0447242</td></tr>\n",
              "\t<tr><td>197</td><td>Nordstrom                       </td><td>Retailing                   </td><td>General Merchandisers                        </td><td>Seattle, WA        </td><td>14437</td><td> 600</td><td> 72500</td><td>0.4365034</td></tr>\n",
              "\t<tr><td>199</td><td>Aramark                         </td><td>Business Services           </td><td>Diversified Outsourcing Services             </td><td>Philadelphia, PA   </td><td>14329</td><td> 236</td><td>216500</td><td>2.0289360</td></tr>\n",
              "\t<tr><td>212</td><td>Synnex                          </td><td>Wholesalers                 </td><td>Wholesalers: Electronics and Office Equipment</td><td>Fremont, CA        </td><td>13338</td><td> 209</td><td> 78500</td><td>0.5028548</td></tr>\n",
              "\t<tr><td>218</td><td><span style=white-space:pre-wrap>Yum Brands                      </span></td><td>Hotels, Resturants &amp; Leisure</td><td><span style=white-space:pre-wrap>Food Services                                </span></td><td><span style=white-space:pre-wrap>Louisville, KY     </span></td><td>13105</td><td>1293</td><td>505000</td><td>5.2193304</td></tr>\n",
              "\t<tr><td>228</td><td>J.C. Penney                     </td><td>Retailing                   </td><td>General Merchandisers                        </td><td>Plano, TX          </td><td>12625</td><td>-513</td><td>105000</td><td>0.7959066</td></tr>\n",
              "\t<tr><td>230</td><td>Cognizant Technology Solutions  </td><td>Technology                  </td><td>Information Technology Services              </td><td>Teaneck, NJ        </td><td>12416</td><td>1624</td><td>221700</td><td>2.0864405</td></tr>\n",
              "\t<tr><td>231</td><td>VF                              </td><td>Apparel                     </td><td>Apparel                                      </td><td>Greensboro, NC     </td><td>12377</td><td>1232</td><td> 64000</td><td>0.3425057</td></tr>\n",
              "\t<tr><td>233</td><td>Computer Sciences               </td><td>Technology                  </td><td>Information Technology Services              </td><td>Falls Church, VA   </td><td>12183</td><td>  -8</td><td> 70000</td><td>0.4088570</td></tr>\n",
              "\t<tr><td>237</td><td>Ross Stores                     </td><td>Retailing                   </td><td>Specialty Retailers: Apparel                 </td><td>Dublin, CA         </td><td>11940</td><td>1021</td><td> 77800</td><td>0.4951138</td></tr>\n",
              "\t<tr><td>240</td><td>Toys “R” Us                     </td><td>Retailing                   </td><td>Specialty Retailers: Other                   </td><td>Wayne, NJ          </td><td>11802</td><td>-130</td><td> 62000</td><td>0.3203886</td></tr>\n",
              "\t<tr><td>254</td><td><span style=white-space:pre-wrap>Hilton Worldwide Holdings       </span></td><td>Hotels, Resturants &amp; Leisure</td><td><span style=white-space:pre-wrap>Hotels, Casinos, Resorts                     </span></td><td><span style=white-space:pre-wrap>McLean, VA         </span></td><td>11272</td><td>1404</td><td>164000</td><td>1.4483616</td></tr>\n",
              "\t<tr><td>255</td><td><span style=white-space:pre-wrap>R.R. Donnelley &amp; Sons           </span></td><td><span style=white-space:pre-wrap>Media                       </span></td><td><span style=white-space:pre-wrap>Publishing, Printing                         </span></td><td><span style=white-space:pre-wrap>Chicago, IL        </span></td><td>11257</td><td> 151</td><td> 68400</td><td>0.3911633</td></tr>\n",
              "\t<tr><td>259</td><td>CBRE Group                      </td><td>Financials                  </td><td>Real estate                                  </td><td>Los Angeles, CA    </td><td>10856</td><td> 547</td><td> 70000</td><td>0.4088570</td></tr>\n",
              "\t<tr><td>280</td><td>AutoZone                        </td><td>Retailing                   </td><td>Specialty Retailers: Other                   </td><td>Memphis, TN        </td><td>10187</td><td>1160</td><td> 63990</td><td>0.3423951</td></tr>\n",
              "\t<tr><td>290</td><td>Universal Health Services       </td><td>Health Care                 </td><td>Health Care: Medical Facilities              </td><td>King of Prussia, PA</td><td> 9785</td><td> 681</td><td> 64500</td><td>0.3480350</td></tr>\n",
              "\t<tr><td>353</td><td>XPO Logistics                   </td><td>Transportation              </td><td>Transportation and Logistics                 </td><td>Greenwich, CT      </td><td> 7623</td><td>-191</td><td> 89000</td><td>0.6189697</td></tr>\n",
              "\t<tr><td>371</td><td><span style=white-space:pre-wrap>Darden Restaurants              </span></td><td>Hotels, Resturants &amp; Leisure</td><td><span style=white-space:pre-wrap>Food Services                                </span></td><td><span style=white-space:pre-wrap>Orlando, FL        </span></td><td> 7164</td><td> 710</td><td>148892</td><td>1.2812889</td></tr>\n",
              "\t<tr><td>372</td><td>Kindred Healthcare              </td><td>Health Care                 </td><td>Health Care: Medical Facilities              </td><td>Louisville, KY     </td><td> 7098</td><td> -93</td><td> 77800</td><td>0.4951138</td></tr>\n",
              "\t<tr><td>436</td><td>Jones Lang LaSalle              </td><td>Financials                  </td><td>Real estate                                  </td><td>Chicago, IL        </td><td> 5966</td><td> 439</td><td> 61500</td><td>0.3148593</td></tr>\n",
              "\t<tr><td>444</td><td><span style=white-space:pre-wrap>Starwood Hotels &amp; Resorts       </span></td><td>Hotels, Resturants &amp; Leisure</td><td><span style=white-space:pre-wrap>Hotels, Casinos, Resorts                     </span></td><td><span style=white-space:pre-wrap>Stamford, CT       </span></td><td> 5763</td><td> 489</td><td>188000</td><td>1.7137671</td></tr>\n",
              "\t<tr><td>448</td><td>Hanesbrands                     </td><td>Apparel                     </td><td>Apparel                                      </td><td>Winston-Salem, NC  </td><td> 5732</td><td> 429</td><td> 65300</td><td>0.3568818</td></tr>\n",
              "\t<tr><td>457</td><td>Genesis Healthcare              </td><td>Health Care                 </td><td>Health Care: Medical Facilities              </td><td>Kennett Square, PA </td><td> 5619</td><td>-426</td><td> 88700</td><td>0.6156521</td></tr>\n",
              "\t<tr><td>485</td><td>ABM Industries                  </td><td>Business Services           </td><td>Diversified Outsourcing Services             </td><td>New York, NY       </td><td> 5291</td><td>  76</td><td>120000</td><td>0.9617850</td></tr>\n",
              "\t<tr><td>515</td><td>Brookdale Senior Living         </td><td>Health Care                 </td><td>Health Care: Medical Facilities              </td><td>Brentwood, TN      </td><td> 4961</td><td>-458</td><td> 67500</td><td>0.3812106</td></tr>\n",
              "\t<tr><td>557</td><td><span style=white-space:pre-wrap>Bloomin’ Brands                 </span></td><td>Hotels, Resturants &amp; Leisure</td><td><span style=white-space:pre-wrap>Food Services                                </span></td><td><span style=white-space:pre-wrap>Tampa, FL          </span></td><td> 4378</td><td> 127</td><td>100000</td><td>0.7406138</td></tr>\n",
              "\t<tr><td>744</td><td>Convergys                       </td><td>Business Services           </td><td>Diversified Outsourcing Services             </td><td>Cincinnati, OH     </td><td> 2951</td><td> 169</td><td>130000</td><td>1.0723706</td></tr>\n",
              "\t<tr><td>763</td><td>Cracker Barrel Old Country Store</td><td>Hotels, Resturants &amp; Leisure</td><td><span style=white-space:pre-wrap>Food Services                                </span></td><td><span style=white-space:pre-wrap>Lebanon, TN        </span></td><td> 2842</td><td> 164</td><td> 72000</td><td>0.4309742</td></tr>\n",
              "</tbody>\n",
              "</table>\n"
            ],
            "text/markdown": "\nA data.table: 120 × 9\n\n| Rank &lt;int&gt; | Company &lt;chr&gt; | Sector &lt;chr&gt; | Industry &lt;chr&gt; | Location &lt;chr&gt; | Revenue &lt;int&gt; | Profits &lt;int&gt; | Employees &lt;int&gt; | z_employees &lt;dbl&gt; |\n|---|---|---|---|---|---|---|---|---|\n|  1 | Walmart                   | Retailing              | General Merchandisers                     | Bentonville, AR   | 482130 | 14694 | 2300000 | 25.0694448 |\n|  2 | Exxon Mobil               | Energy                 | Petroleum Refining                        | Irving, TX        | 246204 | 16150 |   75600 |  0.4707850 |\n|  3 | Apple                     | Technology             | Computers, Office Equipment               | Cupertino, CA     | 233715 | 53394 |  110000 |  0.8511994 |\n|  4 | Berkshire Hathaway        | Financials             | Insurance: Property and Casualty (Stock)  | Omaha, NE         | 210821 | 24083 |  331000 |  3.2951411 |\n|  5 | McKesson                  | Health Care            | Wholesalers: Health Care                  | San Francisco, CA | 181241 |  1476 |   70400 |  0.4132805 |\n|  6 | UnitedHealth Group        | Health Care            | Health Care: Insurance and Managed Care   | Minnetonka, MN    | 157107 |  5813 |  200000 |  1.8464698 |\n|  7 | CVS Health                | Food and Drug Stores   | Food and Drug Stores                      | Woonsocket, RI    | 153290 |  5237 |  199000 |  1.8354112 |\n|  8 | General Motors            | Motor Vehicles &amp; Parts | Motor Vehicles and Parts                  | Detroit, MI       | 152356 |  9687 |  215000 |  2.0123482 |\n|  9 | Ford Motor                | Motor Vehicles &amp; Parts | Motor Vehicles and Parts                  | Dearborn, MI      | 149558 |  7373 |  199000 |  1.8354112 |\n| 10 | AT&amp;T                      | Telecommunications     | Telecommunications                        | Dallas, TX        | 146801 | 13345 |  281450 |  2.7471894 |\n| 11 | General Electric          | Industrials            | Industrial Machinery                      | Fairfield, CT     | 140389 | -6126 |  333000 |  3.3172582 |\n| 13 | Verizon                   | Telecommunications     | Telecommunications                        | New York, NY      | 131620 | 17879 |  177700 |  1.5998639 |\n| 14 | Chevron                   | Energy                 | Petroleum Refining                        | San Ramon, CA     | 131118 |  4587 |   61500 |  0.3148593 |\n| 15 | Costco                    | Retailing              | Specialty Retailers: Other                | Issaquah, WA      | 116199 |  2377 |  161000 |  1.4151860 |\n| 17 | Kroger                    | Food and Drug Stores   | Food and Drug Stores                      | Cincinnati, OH    | 109830 |  2039 |  431000 |  4.4009970 |\n| 18 | Amazon.com                | Technology             | Internet Services and Retailing           | Seattle, WA       | 107006 |   596 |  230800 |  2.1870734 |\n| 19 | Walgreens Boots Alliance  | Food and Drug Stores   | Food and Drug Stores                      | Deerfield, IL     | 103444 |  4220 |  302500 |  2.9799721 |\n| 20 | HP                        | Technology             | Computers, Office Equipment               | Palo Alto, CA     | 103355 |  4554 |  287000 |  2.8085645 |\n| 23 | J.P. Morgan Chase         | Financials             | Commercial Banks                          | New York, NY      | 101006 | 24442 |  234598 |  2.2290738 |\n| 24 | Boeing                    | Aerospace &amp; Defense    | Aerospace and Defense                     | Chicago, IL       |  96114 |  5176 |  161400 |  1.4196094 |\n| 25 | Microsoft                 | Technology             | Computer Software                         | Redmond, WA       |  93580 | 12193 |  118000 |  0.9396679 |\n| 26 | Bank of America Corp.     | Financials             | Commercial Banks                          | Charlotte, NC     |  93056 | 15888 |  213280 |  1.9933274 |\n| 27 | Wells Fargo               | Financials             | Commercial Banks                          | San Francisco, CA |  90033 | 22894 |  264700 |  2.5619586 |\n| 28 | Home Depot                | Retailing              | Specialty Retailers: Other                | Atlanta, GA       |  88519 |  7009 |  385000 |  3.8923033 |\n| 29 | Citigroup                 | Financials             | Commercial Banks                          | New York, NY      |  88275 | 17242 |  231000 |  2.1892851 |\n| 31 | IBM                       | Technology             | Information Technology Services           | Armonk, NY        |  82461 | 13190 |  411798 |  4.1886506 |\n| 34 | Procter &amp; Gamble          | Household Products     | Household and Personal Products           | Cincinnati, OH    |  78756 |  7036 |  110000 |  0.8511994 |\n| 35 | State Farm Insurance Cos. | Financials             | Insurance: Property and Casualty (Mutual) | Bloomington, IL   |  75697 |  6229 |   70425 |  0.4135569 |\n| 36 | Alphabet                  | Technology             | Internet Services and Retailing           | Mountain View, CA |  74989 | 16348 |   61814 |  0.3183317 |\n| 37 | Comcast                   | Telecommunications     | Telecommunications                        | Philadelphia, PA  |  74510 |  8163 |  153000 |  1.3267175 |\n| ⋮ | ⋮ | ⋮ | ⋮ | ⋮ | ⋮ | ⋮ | ⋮ | ⋮ |\n| 186 | Omnicom Group                    | Business Services            | Advertising, marketing                        | New York, NY        | 15134 | 1094 |  74900 | 0.4630440 |\n| 194 | Western Digital                  | Technology                   | Computer Peripherals                          | Irvine, CA          | 14572 | 1465 |  76449 | 0.4801737 |\n| 195 | Marriott International           | Hotels, Resturants &amp; Leisure | Hotels, Casinos, Resorts                      | Bethesda, MD        | 14486 |  859 | 127500 | 1.0447242 |\n| 197 | Nordstrom                        | Retailing                    | General Merchandisers                         | Seattle, WA         | 14437 |  600 |  72500 | 0.4365034 |\n| 199 | Aramark                          | Business Services            | Diversified Outsourcing Services              | Philadelphia, PA    | 14329 |  236 | 216500 | 2.0289360 |\n| 212 | Synnex                           | Wholesalers                  | Wholesalers: Electronics and Office Equipment | Fremont, CA         | 13338 |  209 |  78500 | 0.5028548 |\n| 218 | Yum Brands                       | Hotels, Resturants &amp; Leisure | Food Services                                 | Louisville, KY      | 13105 | 1293 | 505000 | 5.2193304 |\n| 228 | J.C. Penney                      | Retailing                    | General Merchandisers                         | Plano, TX           | 12625 | -513 | 105000 | 0.7959066 |\n| 230 | Cognizant Technology Solutions   | Technology                   | Information Technology Services               | Teaneck, NJ         | 12416 | 1624 | 221700 | 2.0864405 |\n| 231 | VF                               | Apparel                      | Apparel                                       | Greensboro, NC      | 12377 | 1232 |  64000 | 0.3425057 |\n| 233 | Computer Sciences                | Technology                   | Information Technology Services               | Falls Church, VA    | 12183 |   -8 |  70000 | 0.4088570 |\n| 237 | Ross Stores                      | Retailing                    | Specialty Retailers: Apparel                  | Dublin, CA          | 11940 | 1021 |  77800 | 0.4951138 |\n| 240 | Toys “R” Us                      | Retailing                    | Specialty Retailers: Other                    | Wayne, NJ           | 11802 | -130 |  62000 | 0.3203886 |\n| 254 | Hilton Worldwide Holdings        | Hotels, Resturants &amp; Leisure | Hotels, Casinos, Resorts                      | McLean, VA          | 11272 | 1404 | 164000 | 1.4483616 |\n| 255 | R.R. Donnelley &amp; Sons            | Media                        | Publishing, Printing                          | Chicago, IL         | 11257 |  151 |  68400 | 0.3911633 |\n| 259 | CBRE Group                       | Financials                   | Real estate                                   | Los Angeles, CA     | 10856 |  547 |  70000 | 0.4088570 |\n| 280 | AutoZone                         | Retailing                    | Specialty Retailers: Other                    | Memphis, TN         | 10187 | 1160 |  63990 | 0.3423951 |\n| 290 | Universal Health Services        | Health Care                  | Health Care: Medical Facilities               | King of Prussia, PA |  9785 |  681 |  64500 | 0.3480350 |\n| 353 | XPO Logistics                    | Transportation               | Transportation and Logistics                  | Greenwich, CT       |  7623 | -191 |  89000 | 0.6189697 |\n| 371 | Darden Restaurants               | Hotels, Resturants &amp; Leisure | Food Services                                 | Orlando, FL         |  7164 |  710 | 148892 | 1.2812889 |\n| 372 | Kindred Healthcare               | Health Care                  | Health Care: Medical Facilities               | Louisville, KY      |  7098 |  -93 |  77800 | 0.4951138 |\n| 436 | Jones Lang LaSalle               | Financials                   | Real estate                                   | Chicago, IL         |  5966 |  439 |  61500 | 0.3148593 |\n| 444 | Starwood Hotels &amp; Resorts        | Hotels, Resturants &amp; Leisure | Hotels, Casinos, Resorts                      | Stamford, CT        |  5763 |  489 | 188000 | 1.7137671 |\n| 448 | Hanesbrands                      | Apparel                      | Apparel                                       | Winston-Salem, NC   |  5732 |  429 |  65300 | 0.3568818 |\n| 457 | Genesis Healthcare               | Health Care                  | Health Care: Medical Facilities               | Kennett Square, PA  |  5619 | -426 |  88700 | 0.6156521 |\n| 485 | ABM Industries                   | Business Services            | Diversified Outsourcing Services              | New York, NY        |  5291 |   76 | 120000 | 0.9617850 |\n| 515 | Brookdale Senior Living          | Health Care                  | Health Care: Medical Facilities               | Brentwood, TN       |  4961 | -458 |  67500 | 0.3812106 |\n| 557 | Bloomin’ Brands                  | Hotels, Resturants &amp; Leisure | Food Services                                 | Tampa, FL           |  4378 |  127 | 100000 | 0.7406138 |\n| 744 | Convergys                        | Business Services            | Diversified Outsourcing Services              | Cincinnati, OH      |  2951 |  169 | 130000 | 1.0723706 |\n| 763 | Cracker Barrel Old Country Store | Hotels, Resturants &amp; Leisure | Food Services                                 | Lebanon, TN         |  2842 |  164 |  72000 | 0.4309742 |\n\n",
            "text/latex": "A data.table: 120 × 9\n\\begin{tabular}{lllllllll}\n Rank & Company & Sector & Industry & Location & Revenue & Profits & Employees & z\\_employees\\\\\n <int> & <chr> & <chr> & <chr> & <chr> & <int> & <int> & <int> & <dbl>\\\\\n\\hline\n\t  1 & Walmart                   & Retailing              & General Merchandisers                     & Bentonville, AR   & 482130 & 14694 & 2300000 & 25.0694448\\\\\n\t  2 & Exxon Mobil               & Energy                 & Petroleum Refining                        & Irving, TX        & 246204 & 16150 &   75600 &  0.4707850\\\\\n\t  3 & Apple                     & Technology             & Computers, Office Equipment               & Cupertino, CA     & 233715 & 53394 &  110000 &  0.8511994\\\\\n\t  4 & Berkshire Hathaway        & Financials             & Insurance: Property and Casualty (Stock)  & Omaha, NE         & 210821 & 24083 &  331000 &  3.2951411\\\\\n\t  5 & McKesson                  & Health Care            & Wholesalers: Health Care                  & San Francisco, CA & 181241 &  1476 &   70400 &  0.4132805\\\\\n\t  6 & UnitedHealth Group        & Health Care            & Health Care: Insurance and Managed Care   & Minnetonka, MN    & 157107 &  5813 &  200000 &  1.8464698\\\\\n\t  7 & CVS Health                & Food and Drug Stores   & Food and Drug Stores                      & Woonsocket, RI    & 153290 &  5237 &  199000 &  1.8354112\\\\\n\t  8 & General Motors            & Motor Vehicles \\& Parts & Motor Vehicles and Parts                  & Detroit, MI       & 152356 &  9687 &  215000 &  2.0123482\\\\\n\t  9 & Ford Motor                & Motor Vehicles \\& Parts & Motor Vehicles and Parts                  & Dearborn, MI      & 149558 &  7373 &  199000 &  1.8354112\\\\\n\t 10 & AT\\&T                      & Telecommunications     & Telecommunications                        & Dallas, TX        & 146801 & 13345 &  281450 &  2.7471894\\\\\n\t 11 & General Electric          & Industrials            & Industrial Machinery                      & Fairfield, CT     & 140389 & -6126 &  333000 &  3.3172582\\\\\n\t 13 & Verizon                   & Telecommunications     & Telecommunications                        & New York, NY      & 131620 & 17879 &  177700 &  1.5998639\\\\\n\t 14 & Chevron                   & Energy                 & Petroleum Refining                        & San Ramon, CA     & 131118 &  4587 &   61500 &  0.3148593\\\\\n\t 15 & Costco                    & Retailing              & Specialty Retailers: Other                & Issaquah, WA      & 116199 &  2377 &  161000 &  1.4151860\\\\\n\t 17 & Kroger                    & Food and Drug Stores   & Food and Drug Stores                      & Cincinnati, OH    & 109830 &  2039 &  431000 &  4.4009970\\\\\n\t 18 & Amazon.com                & Technology             & Internet Services and Retailing           & Seattle, WA       & 107006 &   596 &  230800 &  2.1870734\\\\\n\t 19 & Walgreens Boots Alliance  & Food and Drug Stores   & Food and Drug Stores                      & Deerfield, IL     & 103444 &  4220 &  302500 &  2.9799721\\\\\n\t 20 & HP                        & Technology             & Computers, Office Equipment               & Palo Alto, CA     & 103355 &  4554 &  287000 &  2.8085645\\\\\n\t 23 & J.P. Morgan Chase         & Financials             & Commercial Banks                          & New York, NY      & 101006 & 24442 &  234598 &  2.2290738\\\\\n\t 24 & Boeing                    & Aerospace \\& Defense    & Aerospace and Defense                     & Chicago, IL       &  96114 &  5176 &  161400 &  1.4196094\\\\\n\t 25 & Microsoft                 & Technology             & Computer Software                         & Redmond, WA       &  93580 & 12193 &  118000 &  0.9396679\\\\\n\t 26 & Bank of America Corp.     & Financials             & Commercial Banks                          & Charlotte, NC     &  93056 & 15888 &  213280 &  1.9933274\\\\\n\t 27 & Wells Fargo               & Financials             & Commercial Banks                          & San Francisco, CA &  90033 & 22894 &  264700 &  2.5619586\\\\\n\t 28 & Home Depot                & Retailing              & Specialty Retailers: Other                & Atlanta, GA       &  88519 &  7009 &  385000 &  3.8923033\\\\\n\t 29 & Citigroup                 & Financials             & Commercial Banks                          & New York, NY      &  88275 & 17242 &  231000 &  2.1892851\\\\\n\t 31 & IBM                       & Technology             & Information Technology Services           & Armonk, NY        &  82461 & 13190 &  411798 &  4.1886506\\\\\n\t 34 & Procter \\& Gamble          & Household Products     & Household and Personal Products           & Cincinnati, OH    &  78756 &  7036 &  110000 &  0.8511994\\\\\n\t 35 & State Farm Insurance Cos. & Financials             & Insurance: Property and Casualty (Mutual) & Bloomington, IL   &  75697 &  6229 &   70425 &  0.4135569\\\\\n\t 36 & Alphabet                  & Technology             & Internet Services and Retailing           & Mountain View, CA &  74989 & 16348 &   61814 &  0.3183317\\\\\n\t 37 & Comcast                   & Telecommunications     & Telecommunications                        & Philadelphia, PA  &  74510 &  8163 &  153000 &  1.3267175\\\\\n\t ⋮ & ⋮ & ⋮ & ⋮ & ⋮ & ⋮ & ⋮ & ⋮ & ⋮\\\\\n\t 186 & Omnicom Group                    & Business Services            & Advertising, marketing                        & New York, NY        & 15134 & 1094 &  74900 & 0.4630440\\\\\n\t 194 & Western Digital                  & Technology                   & Computer Peripherals                          & Irvine, CA          & 14572 & 1465 &  76449 & 0.4801737\\\\\n\t 195 & Marriott International           & Hotels, Resturants \\& Leisure & Hotels, Casinos, Resorts                      & Bethesda, MD        & 14486 &  859 & 127500 & 1.0447242\\\\\n\t 197 & Nordstrom                        & Retailing                    & General Merchandisers                         & Seattle, WA         & 14437 &  600 &  72500 & 0.4365034\\\\\n\t 199 & Aramark                          & Business Services            & Diversified Outsourcing Services              & Philadelphia, PA    & 14329 &  236 & 216500 & 2.0289360\\\\\n\t 212 & Synnex                           & Wholesalers                  & Wholesalers: Electronics and Office Equipment & Fremont, CA         & 13338 &  209 &  78500 & 0.5028548\\\\\n\t 218 & Yum Brands                       & Hotels, Resturants \\& Leisure & Food Services                                 & Louisville, KY      & 13105 & 1293 & 505000 & 5.2193304\\\\\n\t 228 & J.C. Penney                      & Retailing                    & General Merchandisers                         & Plano, TX           & 12625 & -513 & 105000 & 0.7959066\\\\\n\t 230 & Cognizant Technology Solutions   & Technology                   & Information Technology Services               & Teaneck, NJ         & 12416 & 1624 & 221700 & 2.0864405\\\\\n\t 231 & VF                               & Apparel                      & Apparel                                       & Greensboro, NC      & 12377 & 1232 &  64000 & 0.3425057\\\\\n\t 233 & Computer Sciences                & Technology                   & Information Technology Services               & Falls Church, VA    & 12183 &   -8 &  70000 & 0.4088570\\\\\n\t 237 & Ross Stores                      & Retailing                    & Specialty Retailers: Apparel                  & Dublin, CA          & 11940 & 1021 &  77800 & 0.4951138\\\\\n\t 240 & Toys “R” Us                      & Retailing                    & Specialty Retailers: Other                    & Wayne, NJ           & 11802 & -130 &  62000 & 0.3203886\\\\\n\t 254 & Hilton Worldwide Holdings        & Hotels, Resturants \\& Leisure & Hotels, Casinos, Resorts                      & McLean, VA          & 11272 & 1404 & 164000 & 1.4483616\\\\\n\t 255 & R.R. Donnelley \\& Sons            & Media                        & Publishing, Printing                          & Chicago, IL         & 11257 &  151 &  68400 & 0.3911633\\\\\n\t 259 & CBRE Group                       & Financials                   & Real estate                                   & Los Angeles, CA     & 10856 &  547 &  70000 & 0.4088570\\\\\n\t 280 & AutoZone                         & Retailing                    & Specialty Retailers: Other                    & Memphis, TN         & 10187 & 1160 &  63990 & 0.3423951\\\\\n\t 290 & Universal Health Services        & Health Care                  & Health Care: Medical Facilities               & King of Prussia, PA &  9785 &  681 &  64500 & 0.3480350\\\\\n\t 353 & XPO Logistics                    & Transportation               & Transportation and Logistics                  & Greenwich, CT       &  7623 & -191 &  89000 & 0.6189697\\\\\n\t 371 & Darden Restaurants               & Hotels, Resturants \\& Leisure & Food Services                                 & Orlando, FL         &  7164 &  710 & 148892 & 1.2812889\\\\\n\t 372 & Kindred Healthcare               & Health Care                  & Health Care: Medical Facilities               & Louisville, KY      &  7098 &  -93 &  77800 & 0.4951138\\\\\n\t 436 & Jones Lang LaSalle               & Financials                   & Real estate                                   & Chicago, IL         &  5966 &  439 &  61500 & 0.3148593\\\\\n\t 444 & Starwood Hotels \\& Resorts        & Hotels, Resturants \\& Leisure & Hotels, Casinos, Resorts                      & Stamford, CT        &  5763 &  489 & 188000 & 1.7137671\\\\\n\t 448 & Hanesbrands                      & Apparel                      & Apparel                                       & Winston-Salem, NC   &  5732 &  429 &  65300 & 0.3568818\\\\\n\t 457 & Genesis Healthcare               & Health Care                  & Health Care: Medical Facilities               & Kennett Square, PA  &  5619 & -426 &  88700 & 0.6156521\\\\\n\t 485 & ABM Industries                   & Business Services            & Diversified Outsourcing Services              & New York, NY        &  5291 &   76 & 120000 & 0.9617850\\\\\n\t 515 & Brookdale Senior Living          & Health Care                  & Health Care: Medical Facilities               & Brentwood, TN       &  4961 & -458 &  67500 & 0.3812106\\\\\n\t 557 & Bloomin’ Brands                  & Hotels, Resturants \\& Leisure & Food Services                                 & Tampa, FL           &  4378 &  127 & 100000 & 0.7406138\\\\\n\t 744 & Convergys                        & Business Services            & Diversified Outsourcing Services              & Cincinnati, OH      &  2951 &  169 & 130000 & 1.0723706\\\\\n\t 763 & Cracker Barrel Old Country Store & Hotels, Resturants \\& Leisure & Food Services                                 & Lebanon, TN         &  2842 &  164 &  72000 & 0.4309742\\\\\n\\end{tabular}\n",
            "text/plain": [
              "    Rank Company                          Sector                      \n",
              "1    1   Walmart                          Retailing                   \n",
              "2    2   Exxon Mobil                      Energy                      \n",
              "3    3   Apple                            Technology                  \n",
              "4    4   Berkshire Hathaway               Financials                  \n",
              "5    5   McKesson                         Health Care                 \n",
              "6    6   UnitedHealth Group               Health Care                 \n",
              "7    7   CVS Health                       Food and Drug Stores        \n",
              "8    8   General Motors                   Motor Vehicles & Parts      \n",
              "9    9   Ford Motor                       Motor Vehicles & Parts      \n",
              "10  10   AT&T                             Telecommunications          \n",
              "11  11   General Electric                 Industrials                 \n",
              "12  13   Verizon                          Telecommunications          \n",
              "13  14   Chevron                          Energy                      \n",
              "14  15   Costco                           Retailing                   \n",
              "15  17   Kroger                           Food and Drug Stores        \n",
              "16  18   Amazon.com                       Technology                  \n",
              "17  19   Walgreens Boots Alliance         Food and Drug Stores        \n",
              "18  20   HP                               Technology                  \n",
              "19  23   J.P. Morgan Chase                Financials                  \n",
              "20  24   Boeing                           Aerospace & Defense         \n",
              "21  25   Microsoft                        Technology                  \n",
              "22  26   Bank of America Corp.            Financials                  \n",
              "23  27   Wells Fargo                      Financials                  \n",
              "24  28   Home Depot                       Retailing                   \n",
              "25  29   Citigroup                        Financials                  \n",
              "26  31   IBM                              Technology                  \n",
              "27  34   Procter & Gamble                 Household Products          \n",
              "28  35   State Farm Insurance Cos.        Financials                  \n",
              "29  36   Alphabet                         Technology                  \n",
              "30  37   Comcast                          Telecommunications          \n",
              "⋮   ⋮    ⋮                                ⋮                           \n",
              "91  186  Omnicom Group                    Business Services           \n",
              "92  194  Western Digital                  Technology                  \n",
              "93  195  Marriott International           Hotels, Resturants & Leisure\n",
              "94  197  Nordstrom                        Retailing                   \n",
              "95  199  Aramark                          Business Services           \n",
              "96  212  Synnex                           Wholesalers                 \n",
              "97  218  Yum Brands                       Hotels, Resturants & Leisure\n",
              "98  228  J.C. Penney                      Retailing                   \n",
              "99  230  Cognizant Technology Solutions   Technology                  \n",
              "100 231  VF                               Apparel                     \n",
              "101 233  Computer Sciences                Technology                  \n",
              "102 237  Ross Stores                      Retailing                   \n",
              "103 240  Toys “R” Us                      Retailing                   \n",
              "104 254  Hilton Worldwide Holdings        Hotels, Resturants & Leisure\n",
              "105 255  R.R. Donnelley & Sons            Media                       \n",
              "106 259  CBRE Group                       Financials                  \n",
              "107 280  AutoZone                         Retailing                   \n",
              "108 290  Universal Health Services        Health Care                 \n",
              "109 353  XPO Logistics                    Transportation              \n",
              "110 371  Darden Restaurants               Hotels, Resturants & Leisure\n",
              "111 372  Kindred Healthcare               Health Care                 \n",
              "112 436  Jones Lang LaSalle               Financials                  \n",
              "113 444  Starwood Hotels & Resorts        Hotels, Resturants & Leisure\n",
              "114 448  Hanesbrands                      Apparel                     \n",
              "115 457  Genesis Healthcare               Health Care                 \n",
              "116 485  ABM Industries                   Business Services           \n",
              "117 515  Brookdale Senior Living          Health Care                 \n",
              "118 557  Bloomin’ Brands                  Hotels, Resturants & Leisure\n",
              "119 744  Convergys                        Business Services           \n",
              "120 763  Cracker Barrel Old Country Store Hotels, Resturants & Leisure\n",
              "    Industry                                      Location            Revenue\n",
              "1   General Merchandisers                         Bentonville, AR     482130 \n",
              "2   Petroleum Refining                            Irving, TX          246204 \n",
              "3   Computers, Office Equipment                   Cupertino, CA       233715 \n",
              "4   Insurance: Property and Casualty (Stock)      Omaha, NE           210821 \n",
              "5   Wholesalers: Health Care                      San Francisco, CA   181241 \n",
              "6   Health Care: Insurance and Managed Care       Minnetonka, MN      157107 \n",
              "7   Food and Drug Stores                          Woonsocket, RI      153290 \n",
              "8   Motor Vehicles and Parts                      Detroit, MI         152356 \n",
              "9   Motor Vehicles and Parts                      Dearborn, MI        149558 \n",
              "10  Telecommunications                            Dallas, TX          146801 \n",
              "11  Industrial Machinery                          Fairfield, CT       140389 \n",
              "12  Telecommunications                            New York, NY        131620 \n",
              "13  Petroleum Refining                            San Ramon, CA       131118 \n",
              "14  Specialty Retailers: Other                    Issaquah, WA        116199 \n",
              "15  Food and Drug Stores                          Cincinnati, OH      109830 \n",
              "16  Internet Services and Retailing               Seattle, WA         107006 \n",
              "17  Food and Drug Stores                          Deerfield, IL       103444 \n",
              "18  Computers, Office Equipment                   Palo Alto, CA       103355 \n",
              "19  Commercial Banks                              New York, NY        101006 \n",
              "20  Aerospace and Defense                         Chicago, IL          96114 \n",
              "21  Computer Software                             Redmond, WA          93580 \n",
              "22  Commercial Banks                              Charlotte, NC        93056 \n",
              "23  Commercial Banks                              San Francisco, CA    90033 \n",
              "24  Specialty Retailers: Other                    Atlanta, GA          88519 \n",
              "25  Commercial Banks                              New York, NY         88275 \n",
              "26  Information Technology Services               Armonk, NY           82461 \n",
              "27  Household and Personal Products               Cincinnati, OH       78756 \n",
              "28  Insurance: Property and Casualty (Mutual)     Bloomington, IL      75697 \n",
              "29  Internet Services and Retailing               Mountain View, CA    74989 \n",
              "30  Telecommunications                            Philadelphia, PA     74510 \n",
              "⋮   ⋮                                             ⋮                   ⋮      \n",
              "91  Advertising, marketing                        New York, NY        15134  \n",
              "92  Computer Peripherals                          Irvine, CA          14572  \n",
              "93  Hotels, Casinos, Resorts                      Bethesda, MD        14486  \n",
              "94  General Merchandisers                         Seattle, WA         14437  \n",
              "95  Diversified Outsourcing Services              Philadelphia, PA    14329  \n",
              "96  Wholesalers: Electronics and Office Equipment Fremont, CA         13338  \n",
              "97  Food Services                                 Louisville, KY      13105  \n",
              "98  General Merchandisers                         Plano, TX           12625  \n",
              "99  Information Technology Services               Teaneck, NJ         12416  \n",
              "100 Apparel                                       Greensboro, NC      12377  \n",
              "101 Information Technology Services               Falls Church, VA    12183  \n",
              "102 Specialty Retailers: Apparel                  Dublin, CA          11940  \n",
              "103 Specialty Retailers: Other                    Wayne, NJ           11802  \n",
              "104 Hotels, Casinos, Resorts                      McLean, VA          11272  \n",
              "105 Publishing, Printing                          Chicago, IL         11257  \n",
              "106 Real estate                                   Los Angeles, CA     10856  \n",
              "107 Specialty Retailers: Other                    Memphis, TN         10187  \n",
              "108 Health Care: Medical Facilities               King of Prussia, PA  9785  \n",
              "109 Transportation and Logistics                  Greenwich, CT        7623  \n",
              "110 Food Services                                 Orlando, FL          7164  \n",
              "111 Health Care: Medical Facilities               Louisville, KY       7098  \n",
              "112 Real estate                                   Chicago, IL          5966  \n",
              "113 Hotels, Casinos, Resorts                      Stamford, CT         5763  \n",
              "114 Apparel                                       Winston-Salem, NC    5732  \n",
              "115 Health Care: Medical Facilities               Kennett Square, PA   5619  \n",
              "116 Diversified Outsourcing Services              New York, NY         5291  \n",
              "117 Health Care: Medical Facilities               Brentwood, TN        4961  \n",
              "118 Food Services                                 Tampa, FL            4378  \n",
              "119 Diversified Outsourcing Services              Cincinnati, OH       2951  \n",
              "120 Food Services                                 Lebanon, TN          2842  \n",
              "    Profits Employees z_employees\n",
              "1   14694   2300000   25.0694448 \n",
              "2   16150     75600    0.4707850 \n",
              "3   53394    110000    0.8511994 \n",
              "4   24083    331000    3.2951411 \n",
              "5    1476     70400    0.4132805 \n",
              "6    5813    200000    1.8464698 \n",
              "7    5237    199000    1.8354112 \n",
              "8    9687    215000    2.0123482 \n",
              "9    7373    199000    1.8354112 \n",
              "10  13345    281450    2.7471894 \n",
              "11  -6126    333000    3.3172582 \n",
              "12  17879    177700    1.5998639 \n",
              "13   4587     61500    0.3148593 \n",
              "14   2377    161000    1.4151860 \n",
              "15   2039    431000    4.4009970 \n",
              "16    596    230800    2.1870734 \n",
              "17   4220    302500    2.9799721 \n",
              "18   4554    287000    2.8085645 \n",
              "19  24442    234598    2.2290738 \n",
              "20   5176    161400    1.4196094 \n",
              "21  12193    118000    0.9396679 \n",
              "22  15888    213280    1.9933274 \n",
              "23  22894    264700    2.5619586 \n",
              "24   7009    385000    3.8923033 \n",
              "25  17242    231000    2.1892851 \n",
              "26  13190    411798    4.1886506 \n",
              "27   7036    110000    0.8511994 \n",
              "28   6229     70425    0.4135569 \n",
              "29  16348     61814    0.3183317 \n",
              "30   8163    153000    1.3267175 \n",
              "⋮   ⋮       ⋮         ⋮          \n",
              "91  1094     74900    0.4630440  \n",
              "92  1465     76449    0.4801737  \n",
              "93   859    127500    1.0447242  \n",
              "94   600     72500    0.4365034  \n",
              "95   236    216500    2.0289360  \n",
              "96   209     78500    0.5028548  \n",
              "97  1293    505000    5.2193304  \n",
              "98  -513    105000    0.7959066  \n",
              "99  1624    221700    2.0864405  \n",
              "100 1232     64000    0.3425057  \n",
              "101   -8     70000    0.4088570  \n",
              "102 1021     77800    0.4951138  \n",
              "103 -130     62000    0.3203886  \n",
              "104 1404    164000    1.4483616  \n",
              "105  151     68400    0.3911633  \n",
              "106  547     70000    0.4088570  \n",
              "107 1160     63990    0.3423951  \n",
              "108  681     64500    0.3480350  \n",
              "109 -191     89000    0.6189697  \n",
              "110  710    148892    1.2812889  \n",
              "111  -93     77800    0.4951138  \n",
              "112  439     61500    0.3148593  \n",
              "113  489    188000    1.7137671  \n",
              "114  429     65300    0.3568818  \n",
              "115 -426     88700    0.6156521  \n",
              "116   76    120000    0.9617850  \n",
              "117 -458     67500    0.3812106  \n",
              "118  127    100000    0.7406138  \n",
              "119  169    130000    1.0723706  \n",
              "120  164     72000    0.4309742  "
            ]
          },
          "metadata": {}
        }
      ]
    }
  ]
}